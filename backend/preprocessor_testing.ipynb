{
 "cells": [
  {
   "cell_type": "code",
   "execution_count": 10,
   "id": "initial_id",
   "metadata": {
    "collapsed": true,
    "ExecuteTime": {
     "end_time": "2024-03-01T08:41:45.567462Z",
     "start_time": "2024-03-01T08:41:45.567462Z"
    }
   },
   "outputs": [],
   "source": [
    "import os\n",
    "from transformers import pipeline\n",
    "from nltk.corpus import stopwords\n",
    "from nltk.tokenize import word_tokenize\n",
    "from nltk.stem.snowball import DutchStemmer"
   ]
  },
  {
   "cell_type": "code",
   "execution_count": 11,
   "outputs": [],
   "source": [
    "# TODO: add the knowledge extraction\n",
    "# TODO: add privacy extraction\n",
    "# TODO: add different directories in the preprocessor \n",
    "# TODO: change the pipeline so it understand the language used and uses the preprocessor for that language that we have NL, DE, FR, EN\n",
    "\n",
    "class Preprocessor:\n",
    "    \"\"\"\n",
    "    This class contains the basic preprocessor pipeline that's used to extract keywords themed around skills.\n",
    "    \"\"\"\n",
    "    def __init__(self):\n",
    "        self.__model = self.load_model()\n",
    "        \n",
    "    def load_model(self):\n",
    "        \"\"\"\n",
    "        This function loads the model from the preprocessor directory if it exists,\n",
    "        otherwise downloads it and saves it to the directory, then waits until the files are detected in said folder before returning the preprocessor.\n",
    "        \"\"\"\n",
    "        PREPROCESSOR_DIR = \"./preprocessor\"\n",
    "        if not (os.path.exists(PREPROCESSOR_DIR) and os.listdir(PREPROCESSOR_DIR)):\n",
    "            token_skill_classifier = pipeline(model=\"jjzha/jobbert_skill_extraction\", aggregation_strategy=\"first\")\n",
    "            token_skill_classifier.save_pretrained(PREPROCESSOR_DIR)\n",
    "            while not os.listdir(PREPROCESSOR_DIR):  # Wait until files are detected in the specified folder, I'm doing this in case the writing speed isn't fast enough\n",
    "                pass\n",
    "        return pipeline(model=PREPROCESSOR_DIR, task=\"ner\")\n",
    "        \n",
    "    def preprocess_input(self, mail):\n",
    "        \"\"\"\n",
    "        This function preprocesses the input and returns a list of stemmed tokens with all the skills and/or keywords of the inputted email.\n",
    "        \"\"\"\n",
    "\n",
    "        # Tokenize the text using NLTK\n",
    "        tokens = word_tokenize(mail[\"text_body\"].lower())\n",
    "        \n",
    "        # Remove Dutch stop words using NLTK\n",
    "        stop_words = set(stopwords.words(\"dutch\"))\n",
    "        tokens = [token for token in tokens if token.isalpha() and token not in stop_words]\n",
    "        \n",
    "        # Stemming using Dutch Snowball Stemmer\n",
    "        stemmer = DutchStemmer()\n",
    "        tokens = [stemmer.stem(token) for token in tokens]\n",
    "        output_json = self.__model(tokens)\n",
    "        filtered_output = [arr for arr in output_json if arr]\n",
    "        transformed_output = []\n",
    "        for sublist in output_json:\n",
    "            for item in sublist:\n",
    "                transformed_output.append({'word': item['word'], 'score': item['score'], 'type': 'skill'})\n",
    "        return transformed_output\n"
   ],
   "metadata": {
    "collapsed": false,
    "ExecuteTime": {
     "end_time": "2024-03-01T08:41:45.589631400Z",
     "start_time": "2024-03-01T08:41:45.586123400Z"
    }
   },
   "id": "8da47ed5078be26b"
  },
  {
   "cell_type": "code",
   "execution_count": 12,
   "outputs": [],
   "source": [
    "mail =  {\n",
    "    \"item_id\": 0,\n",
    "    \"sender\": \"a1d400258b5c6e3d97307b2c949ffe01fe0aa27ab02ef1c351a7bfa6e0f300a3\",\n",
    "    \"sender_email\": \"6fedc8e86e6e05504fefcdce51f8f73b69f5fd104c23dc5e9dba6c64e5536ffd\",\n",
    "    \"datetime_received\": 1707207587000,\n",
    "    \"sensitivity\": \"Normal\",\n",
    "    \"subject\": \"Datawarehousing Specialist (4. Expert (10+)) SWI000876 - For Swift\",\n",
    "    \"text_body\": \"ENKEL RECHTSTREEKS, GEEN TUSSENPARTIJEN AUB\\r\\n\\r\\nVOORRANG VASTE MEDEWERKERS\\r\\n\\r\\n\\r\\n\\r\\nHallo collega\\u2019s,\\r\\n\\r\\n\\r\\n\\r\\nVoor Swift zoeken we een Datawarehousing Specialist (4. Expert (10+)) SWI000876 die voldoet aan volgende beschrijving:\\r\\n\\r\\n\\r\\n\\r\\nUiterste reactiedatum: 16/02/2024\\r\\n\\r\\nGewenste startdatum: 01/03/2024\\r\\n\\r\\nEinddatum: 31/08/2024\\r\\n\\r\\n\\r\\n\\r\\nReferentie: SWI000876\\r\\n\\r\\nTitel: Datawarehousing Specialist (4. Expert (10+)) SWI000876\\r\\n\\r\\nLocatie: THE NETHERLANDS - ZOETERWOUDE (ENERGIEWEG 33, 2382 NC ZOETERWOUDE, NEDERLAND)\\r\\n\\r\\nStatus: Gepubliceerd\\r\\n\\r\\nType contract: Time & material\\r\\n\\r\\nCategorie: Niet van toepassing\\r\\n\\r\\nAantal personen: 1\\r\\n\\r\\nAfdeling: Human Resource (HR)\\r\\n\\r\\n\\r\\n\\r\\nOmschrijving\\r\\n\\r\\n\\r\\n\\r\\nThe project for which the candidate will be assigned is called Digital Dashboards, having the goal of building executive dashboarding for Swift. The ideal candidate will have an extensive background and expertise in MS Power BI, with both the ability to design the data model, as well as the reports and dashboards.\\r\\n\\r\\nThe candidate will join the project team and will have a key role to play, not just delivering on the scope of the project, but also training the team on that technology since it is still quite new at Swift.\\r\\n\\r\\n\\r\\nOpdracht informatie\\r\\n\\r\\n\\r\\n\\r\\nProjectnaam: Digital Dashboards\\r\\n\\r\\nWerkregime: Voltijds\\r\\n\\r\\n\\r\\n\\r\\nVaardigheden\\r\\n\\r\\n\\r\\n\\r\\nSPECIFIEKE VAARDIGHEDEN\\r\\n\\r\\n\\r\\n\\r\\nData Modeling: Expert (10+)\\r\\n\\r\\nETL Development: Expert (10+)\\r\\n\\r\\nMS Power Bi: Expert (10+)\\r\\n\\r\\n\\r\\n\\r\\n\\r\\nIndien jullie geschikte kandidaten hebben ontvang ik graag hun beschikbaarheid, CV en kostprijs.\\r\\n\\r\\n\\r\\n\\r\\nAlvast hartelijk bedankt.\\r\\n\\r\\n\\r\\n[signature_1929168496]\\r\\n\\r\\nChannice \\r\\n\\r\\nExecutive Assistant - Business and sales support\\r\\n\\r\\n\\r\\n\\r\\n\\r\\n\\r\\n\\r\\n\\r\\nDe Cronos Groep nv\\r\\n\\r\\nVeldkant 33A, 2550 Kontich\\r\\n\\r\\n\\r\\n\",\n",
    "    \"label\": \"BI_ENGINEER\",\n",
    "    \"keywords\": [\n",
    "      \"Datawarehousing Specialist\",\n",
    "      \"MS Power BI\",\n",
    "      \"Data Modeling\",\n",
    "      \"ETL Development\"\n",
    "    ]\n",
    "}"
   ],
   "metadata": {
    "collapsed": false,
    "ExecuteTime": {
     "end_time": "2024-03-01T08:41:45.589631400Z",
     "start_time": "2024-03-01T08:41:45.589631400Z"
    }
   },
   "id": "c982bb06c5c6eb44"
  },
  {
   "cell_type": "code",
   "execution_count": 13,
   "outputs": [
    {
     "name": "stderr",
     "output_type": "stream",
     "text": [
      "Asking to truncate to max_length but no maximum length is provided and the model has no predefined maximum length. Default to no truncation.\n"
     ]
    }
   ],
   "source": [
    "preprocessor = Preprocessor()\n",
    "output = preprocessor.preprocess_input(mail)"
   ],
   "metadata": {
    "collapsed": false,
    "ExecuteTime": {
     "end_time": "2024-03-01T08:41:57.436212800Z",
     "start_time": "2024-03-01T08:41:45.589631400Z"
    }
   },
   "id": "c25a41f523be4d3a"
  }
 ],
 "metadata": {
  "kernelspec": {
   "display_name": "Python 3",
   "language": "python",
   "name": "python3"
  },
  "language_info": {
   "codemirror_mode": {
    "name": "ipython",
    "version": 2
   },
   "file_extension": ".py",
   "mimetype": "text/x-python",
   "name": "python",
   "nbconvert_exporter": "python",
   "pygments_lexer": "ipython2",
   "version": "2.7.6"
  }
 },
 "nbformat": 4,
 "nbformat_minor": 5
}
