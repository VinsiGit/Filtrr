{
 "cells": [
  {
   "cell_type": "markdown",
   "source": [
    "# Testing the preprocessor by extracting keywords from the mail dataset"
   ],
   "metadata": {
    "collapsed": false
   },
   "id": "91d2a2069eecd86"
  },
  {
   "cell_type": "code",
   "execution_count": 144,
   "outputs": [],
   "source": [
    "import json\n",
    "from preprocessor import Preprocessor\n",
    "\n",
    "with open('data.json',encoding='utf-8',mode='r') as file:\n",
    "    mails = json.load(file)\n",
    "\n",
    "preprocessor = Preprocessor()\n",
    "\n",
    "preprocessed_mails = []\n",
    "\n",
    "for mail in mails:\n",
    "    preprocessed_mail = preprocessor.preprocess(mail)\n",
    "    preprocessed_mails.append(preprocessed_mail)\n",
    "\n",
    "with open('./data_preprocessed.json', encoding='utf-8', mode='w') as file:\n",
    "    json.dump(preprocessed_mails, file, indent=4)"
   ],
   "metadata": {
    "collapsed": false,
    "ExecuteTime": {
     "end_time": "2024-03-25T09:38:27.139324800Z",
     "start_time": "2024-03-25T09:38:26.961270900Z"
    }
   },
   "id": "5fe8f9fff99054d1"
  },
  {
   "cell_type": "code",
   "execution_count": 145,
   "outputs": [],
   "source": [
    "with open('./data_preprocessed.json', encoding='utf-8', mode='r') as file:\n",
    "    mails = json.load(file)"
   ],
   "metadata": {
    "collapsed": false,
    "ExecuteTime": {
     "end_time": "2024-03-25T09:38:27.151339400Z",
     "start_time": "2024-03-25T09:38:27.139324800Z"
    }
   },
   "id": "81d52532f0371bb0"
  },
  {
   "cell_type": "code",
   "execution_count": 146,
   "outputs": [],
   "source": [
    "from sklearn.feature_extraction.text import TfidfVectorizer\n",
    "import joblib\n",
    "keywords = [keyword for mail in mails for keyword in mail['keywords']]\n",
    "keywords = list(set(keywords))\n",
    "keywords.sort()\n",
    "\n",
    "keywords_text = ' '.join(keywords)\n",
    "vectorizer = TfidfVectorizer()\n",
    "vectorizer.fit([keywords_text])\n",
    "\n",
    "joblib.dump(vectorizer, 'tfidf_vectorizer.joblib')\n",
    "\n",
    "loaded_vectorizer = joblib.load('tfidf_vectorizer.joblib')"
   ],
   "metadata": {
    "collapsed": false,
    "ExecuteTime": {
     "end_time": "2024-03-25T09:38:27.166989Z",
     "start_time": "2024-03-25T09:38:27.151339400Z"
    }
   },
   "id": "26011d56a8e2b988"
  },
  {
   "cell_type": "code",
   "execution_count": 147,
   "outputs": [
    {
     "data": {
      "text/plain": "[[0,\n  ['bi',\n   'data',\n   'design',\n   'etl',\n   'hr',\n   'model',\n   'ms',\n   'nc',\n   'nv',\n   'power',\n   'project',\n   'specialist'],\n  'BI_ENGINEER'],\n [1,\n  ['3',\n   'able',\n   'analyse',\n   'architecture',\n   'b',\n   'bi',\n   'bo',\n   'central',\n   'customer',\n   'dashboard',\n   'data',\n   'design',\n   'develop',\n   'engineer',\n   'experience',\n   'integration',\n   'language',\n   'learn',\n   'main',\n   'make',\n   'model',\n   'oa',\n   'platform',\n   'pro',\n   'process',\n   'project',\n   'quality',\n   'safe',\n   'security',\n   'sets',\n   'soft',\n   'solution',\n   'sql',\n   'strategic',\n   'tool',\n   'use',\n   'warehouse',\n   'work'],\n  'BI_ENGINEER'],\n [2,\n  ['3',\n   'alm',\n   'azure',\n   'bi',\n   'data',\n   'databricks',\n   'dax',\n   'desktop',\n   'devops',\n   'dimensional',\n   'e',\n   'ecosystem',\n   'excel',\n   'experience',\n   'factory',\n   'g',\n   'integration',\n   'lake',\n   'language',\n   'microsoft',\n   'model',\n   'power',\n   'query',\n   'security',\n   'service',\n   'sql',\n   'ssis',\n   'ssms',\n   'stack',\n   'studio',\n   'synapse',\n   'ui',\n   'ux'],\n  'BI_ENGINEER'],\n [3,\n  ['analyse',\n   'bi',\n   'co',\n   'customer',\n   'data',\n   'datasets',\n   'e',\n   'ic',\n   'ict',\n   'intelligence',\n   'machine',\n   'nv',\n   'platform',\n   'project',\n   'r',\n   'sql'],\n  'BI_ENGINEER'],\n [4,\n  ['bi',\n   'cloud',\n   'dashboard',\n   'data',\n   'datalake',\n   'f',\n   'microsoft',\n   'nv',\n   'power',\n   'rt',\n   'specialist',\n   'ssis',\n   'tem',\n   'ter'],\n  'BI_ENGINEER'],\n [5,\n  ['b', 'bi', 'data', 'e', 'ic', 'power', 'project', 'system', 'us', 'use'],\n  'BI_ENGINEER'],\n [6,\n  ['advanced',\n   'b',\n   'bi',\n   'big',\n   'data',\n   'design',\n   'develop',\n   'dynamic',\n   'e',\n   'experience',\n   'face',\n   'g',\n   'go',\n   'interface',\n   'language',\n   'make',\n   'optimization',\n   'power',\n   'project',\n   'quality',\n   'sc',\n   'set',\n   'setup',\n   'strategy',\n   'system',\n   'us',\n   'w',\n   'warehouse'],\n  'BI_ENGINEER'],\n [7,\n  ['3',\n   'analyst',\n   'bi',\n   'contain',\n   'data',\n   'e',\n   'gr',\n   'ic',\n   'intelligence',\n   'nv',\n   'power',\n   'qliksense',\n   'rate',\n   'system',\n   'use'],\n  'BI_ENGINEER'],\n [8,\n  ['3',\n   'able',\n   'advanced',\n   'analyse',\n   'analyst',\n   'architecture',\n   'b',\n   'bi',\n   'bnp',\n   'code',\n   'data',\n   'dev',\n   'dynamic',\n   'engineer',\n   'environment',\n   'ex',\n   'excel',\n   'experience',\n   'innovation',\n   'integration',\n   'main',\n   'ms',\n   'power',\n   'pro',\n   'process',\n   'project',\n   'sense',\n   'solution',\n   'sql',\n   'tool',\n   'value',\n   'work',\n   'works'],\n  'BI_ENGINEER'],\n [9,\n  ['b',\n   'bi',\n   'culture',\n   'dashboard',\n   'data',\n   'design',\n   'develop',\n   'govern',\n   'intelligence',\n   'model',\n   'nv',\n   'power',\n   'program',\n   'service',\n   'specialist',\n   'use',\n   'work'],\n  'BI_ENGINEER'],\n [10,\n  ['3',\n   'analyse',\n   'analyst',\n   'b',\n   'cloud',\n   'customer',\n   'data',\n   'datasets',\n   'dynamic',\n   'environment',\n   'excel',\n   'experience',\n   'infrastructure',\n   'language',\n   'large',\n   'pro',\n   'soft',\n   'transform',\n   'work'],\n  'BI_ENGINEER'],\n [11,\n  ['analyse',\n   'analyst',\n   'b',\n   'bi',\n   'data',\n   'dimensional',\n   'nv',\n   'power',\n   'report',\n   'ter'],\n  'BI_ENGINEER'],\n [12,\n  ['3', 'b', 'bi', 'data', 'e', 'ic', 'per', 'power', 'project', 'us'],\n  'BI_ENGINEER'],\n [13,\n  ['3',\n   'analyst',\n   'azure',\n   'b',\n   'bi',\n   'data',\n   'databricks',\n   'datasets',\n   'design',\n   'desktop',\n   'etl',\n   'factory',\n   'lake',\n   'main',\n   'microsoft',\n   'nv',\n   'process',\n   'product',\n   'service',\n   'sql',\n   'synapse',\n   'tool',\n   'topdesk'],\n  'BI_ENGINEER'],\n [14,\n  ['3',\n   'automation',\n   'b',\n   'bnppf',\n   'customer',\n   'dashboard',\n   'data',\n   'engineer',\n   'experience',\n   'flow',\n   'lake',\n   'language',\n   'line',\n   'project',\n   'setup',\n   'soft',\n   'solution',\n   'specialist',\n   'strategic',\n   'strategy',\n   'work'],\n  'BI_ENGINEER'],\n [15,\n  ['bi',\n   'co',\n   'dashboard',\n   'data',\n   'datasets',\n   'dax',\n   'design',\n   'desktop',\n   'e',\n   'environment',\n   'experience',\n   'language',\n   'lay',\n   'paginated',\n   'power',\n   'query',\n   'report',\n   'service',\n   'sql',\n   'structure',\n   'us',\n   'use'],\n  'BI_ENGINEER'],\n [16,\n  ['3',\n   'able',\n   'act',\n   'advanced',\n   'azure',\n   'b',\n   'bi',\n   'customer',\n   'data',\n   'databricks',\n   'dax',\n   'devops',\n   'e',\n   'environment',\n   'experience',\n   'factory',\n   'infrastructure',\n   'innovation',\n   'intelligence',\n   'language',\n   'learn',\n   'make',\n   'microsoft',\n   'nv',\n   'operation',\n   'platform',\n   'power',\n   'product',\n   'project',\n   'solution',\n   'sql',\n   'ssis',\n   'stack',\n   'strategic',\n   'strategy',\n   'stream',\n   'system',\n   'value',\n   'works'],\n  'BI_ENGINEER'],\n [17,\n  ['3',\n   'able',\n   'act',\n   'application',\n   'asset',\n   'bi',\n   'cognos',\n   'data',\n   'design',\n   'develop',\n   'dimensional',\n   'experience',\n   'handle',\n   'hi',\n   'intelligence',\n   'layer',\n   'learn',\n   'main',\n   'nv',\n   'power',\n   'prepare',\n   'quality',\n   'service',\n   'set',\n   'skill',\n   'solution',\n   'sql',\n   'tel',\n   'use',\n   'warehouse',\n   'work',\n   'works'],\n  'BI_ENGINEER'],\n [18,\n  ['advanced',\n   'architect',\n   'azure',\n   'bi',\n   'code',\n   'data',\n   'databricks',\n   'experience',\n   'level',\n   'nn',\n   'power',\n   'project',\n   'scala',\n   'setup',\n   'sql',\n   'stack'],\n  'BI_ENGINEER'],\n [19,\n  ['advanced',\n   'analyse',\n   'architect',\n   'azure',\n   'b',\n   'bi',\n   'cloud',\n   'crisp',\n   'dashboard',\n   'data',\n   'databricks',\n   'datasets',\n   'db',\n   'dm',\n   'engineer',\n   'etp',\n   'microsoft',\n   'ms',\n   'nv',\n   'oracle',\n   'p',\n   'proces',\n   'sql',\n   'ver'],\n  'BI_ENGINEER'],\n [20,\n  ['3',\n   'able',\n   'application',\n   'architecture',\n   'azure',\n   'bi',\n   'code',\n   'customer',\n   'data',\n   'deep',\n   'design',\n   'dev',\n   'develop',\n   'dimensional',\n   'dive',\n   'e',\n   'engine',\n   'etl',\n   'excel',\n   'experience',\n   'flow',\n   'git',\n   'integration',\n   'intelligence',\n   'language',\n   'learn',\n   'machine',\n   'maintain',\n   'microsoft',\n   'model',\n   'ms',\n   'oracle',\n   'p',\n   'pl',\n   'process',\n   'product',\n   'r',\n   'set',\n   'solution',\n   'sql',\n   'ssis',\n   'studio',\n   'system',\n   'tel',\n   'ter',\n   'value',\n   'visual',\n   'work'],\n  'BI_ENGINEER'],\n [21,\n  ['able',\n   'analyst',\n   'b',\n   'customer',\n   'data',\n   'e',\n   'experience',\n   'g',\n   'per',\n   'process',\n   'product',\n   'qlik',\n   'sense',\n   'service',\n   'structured',\n   'ter',\n   'tool',\n   'use',\n   'w'],\n  'BI_ENGINEER'],\n [22,\n  ['able',\n   'analyst',\n   'b',\n   'customer',\n   'data',\n   'e',\n   'experience',\n   'g',\n   'process',\n   'product',\n   'qliksense',\n   'sense',\n   'service',\n   'structured',\n   'tool',\n   'use',\n   'w'],\n  'BI_ENGINEER'],\n [23,\n  ['act',\n   'advanced',\n   'application',\n   'b',\n   'bi',\n   'custom',\n   'data',\n   'dax',\n   'desktop',\n   'develop',\n   'e',\n   'g',\n   'intelligence',\n   'layer',\n   'level',\n   'manage',\n   'platform',\n   'power',\n   'row',\n   'security',\n   'set',\n   'sql',\n   'tel',\n   'us',\n   'work'],\n  'BI_ENGINEER'],\n [24,\n  ['able',\n   'act',\n   'analyst',\n   'bi',\n   'big',\n   'customer',\n   'data',\n   'develop',\n   'environment',\n   'excel',\n   'experience',\n   'go',\n   'large',\n   'model',\n   'ms',\n   'p',\n   'per',\n   'power',\n   'process',\n   'project',\n   'service',\n   'sets',\n   'sql',\n   'work'],\n  'BI_ENGINEER'],\n [25,\n  ['3',\n   'b',\n   'bi',\n   'data',\n   'dax',\n   'design',\n   'dimensional',\n   'engineer',\n   'experience',\n   'intelligence',\n   'level',\n   'main',\n   'model',\n   'olap',\n   'platform',\n   'power',\n   'sql',\n   'v',\n   'warehouse'],\n  'BI_ENGINEER'],\n [26, ['3', 'bi', 'co', 'data', 'e', 'power', 'us', 'use'], 'BI_ENGINEER'],\n [27,\n  ['3',\n   'analyse',\n   'analyst',\n   'b',\n   'bi',\n   'co',\n   'data',\n   'ic',\n   'project',\n   'sql',\n   'tel',\n   'ter'],\n  'BI_ENGINEER'],\n [28,\n  ['3',\n   'advanced',\n   'analyst',\n   'art',\n   'bi',\n   'data',\n   'datasets',\n   'dax',\n   'desktop',\n   'excel',\n   'experience',\n   'face',\n   'language',\n   'level',\n   'main',\n   'paginated',\n   'power',\n   'process',\n   'project',\n   'query',\n   'road',\n   'service',\n   'specialist',\n   'sql',\n   'use',\n   'ux',\n   'value',\n   'work'],\n  'BI_ENGINEER'],\n [29,\n  ['able',\n   'analyst',\n   'bi',\n   'big',\n   'contain',\n   'data',\n   'dynamic',\n   'e',\n   'environment',\n   'excel',\n   'experience',\n   'gr',\n   'make',\n   'manage',\n   'ms',\n   'nv',\n   'qlik',\n   'sense',\n   'set',\n   'sql',\n   'structured',\n   'system',\n   'use',\n   'work'],\n  'BI_ENGINEER'],\n [30,\n  ['advanced',\n   'analyst',\n   'architecture',\n   'b',\n   'bi',\n   'big',\n   'code',\n   'cr',\n   'data',\n   'e',\n   'eng',\n   'engineer',\n   'etl',\n   'excel',\n   'experience',\n   'fr',\n   'intelligence',\n   'mani',\n   'ms',\n   'oracle',\n   'pipeline',\n   'pro',\n   'qliksense',\n   'si',\n   'sql',\n   'tre',\n   'w'],\n  'BI_ENGINEER'],\n [31,\n  ['3',\n   'able',\n   'ad',\n   'advanced',\n   'analyse',\n   'analyst',\n   'asset',\n   'b',\n   'bi',\n   'bnppf',\n   'customer',\n   'data',\n   'dynamic',\n   'e',\n   'environment',\n   'experience',\n   'language',\n   'power',\n   'pro',\n   'r',\n   'set',\n   'soft',\n   'sql',\n   'transform',\n   'work'],\n  'BI_ENGINEER'],\n [32,\n  ['3',\n   'advanced',\n   'analyse',\n   'analyst',\n   'ans',\n   'azure',\n   'bi',\n   'ci',\n   'cognos',\n   'cr',\n   'data',\n   'databricks',\n   'e',\n   'engineer',\n   'etl',\n   'ex',\n   'exp',\n   'experience',\n   'factory',\n   'git',\n   'ins',\n   'intelligence',\n   'level',\n   'main',\n   'microsoft',\n   'mod',\n   'ms',\n   'power',\n   'pro',\n   'qualit',\n   'r',\n   'rience',\n   'sens',\n   'sql',\n   'strat',\n   'tre',\n   'vault'],\n  'BI_ENGINEER'],\n [33,\n  ['able',\n   'app',\n   'big',\n   'dashboard',\n   'data',\n   'develop',\n   'dimensional',\n   'dynamic',\n   'e',\n   'environment',\n   'experience',\n   'fr',\n   'intelligence',\n   'manage',\n   'migrate',\n   'model',\n   'product',\n   'project',\n   'qliksense',\n   'report',\n   'semi',\n   'sense',\n   'stream',\n   'structure',\n   'structured',\n   'us',\n   'va',\n   'work'],\n  'BI_ENGINEER'],\n [34,\n  ['analyse',\n   'analyst',\n   'asset',\n   'ax',\n   'b',\n   'bi',\n   'data',\n   'dax',\n   'nv',\n   'power',\n   'sql',\n   'ter',\n   'warehouse'],\n  'BI_ENGINEER'],\n [35,\n  ['3',\n   'advanced',\n   'bi',\n   'data',\n   'datasets',\n   'dax',\n   'desktop',\n   'environment',\n   'experience',\n   'face',\n   'interface',\n   'language',\n   'level',\n   'list',\n   'main',\n   'make',\n   'paginated',\n   'power',\n   'process',\n   'report',\n   'specialist',\n   'use',\n   'ux',\n   'value',\n   'work'],\n  'BI_ENGINEER'],\n [36,\n  ['advanced',\n   'bi',\n   'data',\n   'datasets',\n   'dax',\n   'desktop',\n   'environment',\n   'experience',\n   'face',\n   'interface',\n   'language',\n   'level',\n   'list',\n   'main',\n   'make',\n   'paginated',\n   'power',\n   'process',\n   'report',\n   'specialist',\n   'use',\n   'ux',\n   'value',\n   'work'],\n  'BI_ENGINEER'],\n [37,\n  ['analyse',\n   'analyst',\n   'ba',\n   'bi',\n   'data',\n   'etl',\n   'intelligence',\n   'model',\n   'sql',\n   'tel',\n   'tool',\n   'transform'],\n  'BI_ENGINEER'],\n [38,\n  ['able',\n   'analyse',\n   'bi',\n   'data',\n   'datasets',\n   'dax',\n   'e',\n   'environment',\n   'experience',\n   'gr',\n   'infrastructure',\n   'intelligence',\n   'main',\n   'make',\n   'manage',\n   'microsoft',\n   'oracle',\n   'paginated',\n   'power',\n   'security',\n   'service',\n   'sql',\n   'tool',\n   'use',\n   'work'],\n  'BI_ENGINEER'],\n [39,\n  ['able',\n   'advanced',\n   'application',\n   'architect',\n   'architecture',\n   'asset',\n   'automation',\n   'azure',\n   'bi',\n   'big',\n   'cloud',\n   'data',\n   'design',\n   'develop',\n   'dimensional',\n   'etl',\n   'experience',\n   'flow',\n   'infrastructure',\n   'integration',\n   'intelligence',\n   'language',\n   'large',\n   'level',\n   'main',\n   'migrate',\n   'ms',\n   'oracle',\n   'pl',\n   'process',\n   'qlik',\n   'qliksense',\n   'security',\n   'soft',\n   'solution',\n   'sql',\n   'strategy',\n   'tool',\n   'work'],\n  'BI_ENGINEER'],\n [40,\n  ['3',\n   'application',\n   'architecture',\n   'automation',\n   'aws',\n   'bi',\n   'big',\n   'cloud',\n   'co',\n   'contain',\n   'data',\n   'datasets',\n   'dbt',\n   'design',\n   'devops',\n   'dynamic',\n   'e',\n   'ecosystem',\n   'engineer',\n   'erp',\n   'etl',\n   'experience',\n   'g',\n   'go',\n   'gr',\n   'innovation',\n   'intelligence',\n   'java',\n   'large',\n   'learn',\n   'level',\n   'manage',\n   'mart',\n   'model',\n   'nv',\n   'oracle',\n   'pipeline',\n   'product',\n   'qlik',\n   'quality',\n   'roadmap',\n   's3',\n   'scala',\n   'security',\n   'sense',\n   'set',\n   'sql',\n   'system',\n   'use',\n   'value',\n   'warehouse',\n   'work',\n   'works'],\n  'BI_ENGINEER'],\n [41,\n  ['3',\n   'act',\n   'analyst',\n   'application',\n   'arm',\n   'automation',\n   'aws',\n   'azure',\n   'b',\n   'bi',\n   'cd',\n   'ci',\n   'cloud',\n   'code',\n   'data',\n   'design',\n   'devops',\n   'e',\n   'experience',\n   'form',\n   'g',\n   'infrastructure',\n   'innovation',\n   'level',\n   'maintain',\n   'make',\n   'manage',\n   'map',\n   'nc',\n   'optimization',\n   'pipeline',\n   'platform',\n   'power',\n   'process',\n   'strategic',\n   'tp',\n   'use',\n   'w',\n   'work'],\n  'BI_ENGINEER'],\n [0,\n  ['asset',\n   'cloud',\n   'customer',\n   'data',\n   'develop',\n   'e',\n   'eng',\n   'experience',\n   'fr',\n   'infrastructure',\n   'line',\n   'nv',\n   'per',\n   'platform',\n   'process',\n   'project',\n   'quality',\n   'safe',\n   'security',\n   'service',\n   'tel',\n   'value',\n   'work'],\n  'IRRELEVANT'],\n [1,\n  ['3', 'cd', 'ci', 'engineer', 'git', 'java', 'product', 'sql', 'strategy'],\n  'IRRELEVANT'],\n [2,\n  ['3',\n   'asset',\n   'customer',\n   'data',\n   'desk',\n   'dynamic',\n   'eng',\n   'environment',\n   'experience',\n   'fr',\n   'ict',\n   'make',\n   'manage',\n   'p',\n   'quality',\n   'security',\n   'service',\n   'structured',\n   'system',\n   'use',\n   'v',\n   'work'],\n  'IRRELEVANT'],\n [3,\n  ['contain',\n   'customer',\n   'e',\n   'eng',\n   'fr',\n   'go',\n   'level',\n   'lt',\n   'nt',\n   'nte',\n   'nv',\n   'roadmap',\n   'service',\n   'system',\n   'use'],\n  'IRRELEVANT'],\n [4,\n  ['af', 'co', 'engineer', 'per', 'security', 'sta', 'system'],\n  'IRRELEVANT'],\n [5,\n  ['3',\n   'analyse',\n   'art',\n   'asset',\n   'automation',\n   'aws',\n   'azure',\n   'cd',\n   'ci',\n   'cloud',\n   'code',\n   'customer',\n   'design',\n   'develop',\n   'devops',\n   'e',\n   'engineer',\n   'environment',\n   'experience',\n   'infrastructure',\n   'java',\n   'learn',\n   'maintain',\n   'make',\n   'model',\n   'nv',\n   'platform',\n   'process',\n   'red',\n   'solution',\n   'system',\n   'tp',\n   'us',\n   'use',\n   'value',\n   'work',\n   'works'],\n  'IRRELEVANT'],\n [6,\n  ['3', 'design', 'line', 'proces', 'project', 'qua', 'solution', 'z'],\n  'IRRELEVANT'],\n [7, ['central', 'data', 'soft', 'solution', 'ux'], 'IRRELEVANT'],\n [8,\n  ['architect',\n   'automation',\n   'aws',\n   'b',\n   'cd',\n   'ci',\n   'cloud',\n   'code',\n   'data',\n   'devops',\n   'engineer',\n   'go',\n   'infrastructure',\n   'level',\n   'p',\n   'platform',\n   'pr',\n   'safe',\n   'security',\n   'service',\n   'solution',\n   'ter',\n   'v'],\n  'IRRELEVANT'],\n [9,\n  ['3',\n   'age',\n   'api',\n   'automation',\n   'aws',\n   'code',\n   'data',\n   'design',\n   'dive',\n   'engineer',\n   'environment',\n   'experience',\n   'innovation',\n   'integration',\n   'lambda',\n   'main',\n   'make',\n   'migrate',\n   'p',\n   'process',\n   'q',\n   'r',\n   'require',\n   'skill',\n   'space',\n   'sta',\n   'stack',\n   'tech',\n   'top',\n   'us',\n   'v',\n   'work',\n   'z'],\n  'IRRELEVANT'],\n [10,\n  ['3',\n   'able',\n   'asset',\n   'automation',\n   'b',\n   'cloud',\n   'customer',\n   'data',\n   'devops',\n   'engineer',\n   'experience',\n   'face',\n   'h',\n   'infrastructure',\n   'language',\n   'layer',\n   'learn',\n   'linux',\n   'maintain',\n   'model',\n   'nv',\n   'operation',\n   'platform',\n   'process',\n   'roadmap',\n   'security',\n   'soft',\n   'solution',\n   'strategy',\n   'system',\n   'w',\n   'work'],\n  'IRRELEVANT'],\n [11,\n  ['act',\n   'ag',\n   'architecture',\n   'b',\n   'cloud',\n   'data',\n   'develop',\n   'engine',\n   'environment',\n   'etl',\n   'experience',\n   'language',\n   'level',\n   'main',\n   'microsoft',\n   'model',\n   'optimization',\n   'platform',\n   'prepare',\n   'program',\n   'project',\n   'rate',\n   'security',\n   'solution',\n   'sql',\n   'stack',\n   'structured',\n   'work'],\n  'IRRELEVANT'],\n [12,\n  ['3',\n   'azure',\n   'cloud',\n   'data',\n   'experience',\n   'infrastructure',\n   'program',\n   'security'],\n  'IRRELEVANT'],\n [13,\n  ['aws', 'azure', 'data', 'databricks', 'engineer', 'tel', 'visual'],\n  'IRRELEVANT'],\n [14,\n  ['alm',\n   'analyst',\n   'azure',\n   'bi',\n   'data',\n   'databricks',\n   'dax',\n   'desktop',\n   'factory',\n   'lake',\n   'microsoft',\n   'ms',\n   'power',\n   'report',\n   'service',\n   'sql',\n   'ssis',\n   'stack',\n   'studio',\n   'synapse',\n   'visual'],\n  'IRRELEVANT'],\n [15,\n  ['alm',\n   'analyst',\n   'azure',\n   'bi',\n   'data',\n   'databricks',\n   'dax',\n   'desktop',\n   'factory',\n   'lake',\n   'microsoft',\n   'ms',\n   'power',\n   'report',\n   'service',\n   'sql',\n   'ssis',\n   'stack',\n   'studio',\n   'synapse',\n   'visual'],\n  'IRRELEVANT'],\n [16,\n  ['3',\n   'api',\n   'azure',\n   'cloud',\n   'code',\n   'data',\n   'hbo',\n   'li',\n   'microsoft',\n   'per',\n   'wp',\n   'xp'],\n  'IRRELEVANT'],\n [17,\n  ['ad',\n   'api',\n   'application',\n   'automation',\n   'azure',\n   'cd',\n   'ci',\n   'cloud',\n   'code',\n   'container',\n   'data',\n   'devops',\n   'e',\n   'engineer',\n   'git',\n   'infrastructure',\n   'insight',\n   'nv',\n   'per',\n   'service',\n   'stack',\n   'tech',\n   'ter',\n   'vault'],\n  'IRRELEVANT'],\n [18,\n  ['3',\n   'analyse',\n   'analyst',\n   'asset',\n   'automation',\n   'customer',\n   'design',\n   'develop',\n   'devops',\n   'docker',\n   'dynamic',\n   'e',\n   'engineer',\n   'environment',\n   'experience',\n   'g',\n   'git',\n   'integration',\n   'learn',\n   'linux',\n   'maintain',\n   'make',\n   'nv',\n   'platform',\n   'product',\n   'quality',\n   'report',\n   'security',\n   'sense',\n   'set',\n   'solution',\n   'sql',\n   'structured',\n   'system',\n   'top',\n   'use',\n   'work',\n   'x'],\n  'IRRELEVANT'],\n [19,\n  ['3',\n   'api',\n   'b',\n   'data',\n   'excel',\n   'experience',\n   'integration',\n   'language',\n   'soft',\n   'sql',\n   'system',\n   'work'],\n  'IRRELEVANT'],\n [20,\n  ['3',\n   'azure',\n   'b',\n   'cd',\n   'ci',\n   'code',\n   'data',\n   'develop',\n   'environment',\n   'experience',\n   'language',\n   'maintain',\n   'microsoft',\n   'nv',\n   'platform',\n   'product',\n   'solution',\n   'strategy',\n   'use'],\n  'IRRELEVANT'],\n [21,\n  ['aws',\n   'cloud',\n   'data',\n   'dbt',\n   'dimensional',\n   'eng',\n   'engineer',\n   'excel',\n   'hi',\n   'microsoft',\n   'oracle',\n   'r',\n   'sql'],\n  'IRRELEVANT'],\n [22,\n  ['able',\n   'analyst',\n   'azure',\n   'b',\n   'devops',\n   'environment',\n   'experience',\n   'ms',\n   'nv',\n   'prepare',\n   'product',\n   'set',\n   'solution',\n   'strategy',\n   'work'],\n  'IRRELEVANT'],\n [23,\n  ['analyse',\n   'azure',\n   'contain',\n   'devops',\n   'docker',\n   'e',\n   'gr',\n   'integration',\n   'java',\n   'nv',\n   'project',\n   'stack',\n   'system',\n   'use'],\n  'IRRELEVANT'],\n [24, ['aws', 'big', 'data', 'dbt', 'e', 'engineer', 'p'], 'IRRELEVANT'],\n [25,\n  ['able',\n   'application',\n   'automation',\n   'aws',\n   'azure',\n   'b',\n   'cloud',\n   'container',\n   'data',\n   'dev',\n   'develop',\n   'devops',\n   'e',\n   'engineer',\n   'environment',\n   'experience',\n   'flow',\n   'git',\n   'java',\n   'large',\n   'learn',\n   'linux',\n   'maintain',\n   'manage',\n   'ops',\n   'platform',\n   'process',\n   'product',\n   'project',\n   'quality',\n   'stream',\n   'system',\n   'tech',\n   'top',\n   'value',\n   'w',\n   'warehouse',\n   'work'],\n  'IRRELEVANT'],\n [26,\n  ['3',\n   'auto',\n   'azure',\n   'cd',\n   'ci',\n   'data',\n   'databricks',\n   'datalake',\n   'devops',\n   'engineer',\n   'etl',\n   'git',\n   'p',\n   'per',\n   'sql',\n   'synapse',\n   'tel',\n   'v',\n   'xp'],\n  'IRRELEVANT'],\n [27,\n  ['3',\n   'app',\n   'application',\n   'b',\n   'code',\n   'container',\n   'customer',\n   'data',\n   'design',\n   'docker',\n   'experience',\n   'git',\n   'integration',\n   'language',\n   'maintain',\n   'quality',\n   'requirement',\n   'soft',\n   'work'],\n  'IRRELEVANT'],\n [28,\n  ['analyse',\n   'application',\n   'architect',\n   'architecture',\n   'asset',\n   'automation',\n   'cd',\n   'ci',\n   'cka',\n   'cks',\n   'cloud',\n   'code',\n   'container',\n   'culture',\n   'customer',\n   'data',\n   'design',\n   'develop',\n   'devops',\n   'docker',\n   'dynamic',\n   'e',\n   'engineer',\n   'environment',\n   'experience',\n   'g',\n   'git',\n   'go',\n   'infrastructure',\n   'java',\n   'language',\n   'linux',\n   'maintain',\n   'make',\n   'model',\n   'nv',\n   'platform',\n   'product',\n   'quality',\n   'red',\n   'scalable',\n   'security',\n   'specialist',\n   'system',\n   'tel',\n   'tp',\n   'us',\n   'use',\n   'value',\n   'work'],\n  'IRRELEVANT'],\n [29, ['b', 'co', 'code', 'data', 'platform', 'w'], 'IRRELEVANT'],\n [30,\n  ['architect',\n   'azure',\n   'cd',\n   'ci',\n   'cloud',\n   'code',\n   'culture',\n   'data',\n   'design',\n   'desktop',\n   'develop',\n   'devops',\n   'engineer',\n   'environment',\n   'experience',\n   'go',\n   'hi',\n   'ic',\n   'infrastructure',\n   'integration',\n   'large',\n   'level',\n   'main',\n   'maintain',\n   'microsoft',\n   'nv',\n   'p',\n   'platform',\n   'security',\n   'tel',\n   'value',\n   'work',\n   'workspace'],\n  'IRRELEVANT'],\n [31,\n  ['analyst', 'b', 'co', 'data', 'e', 'eng', 'hr', 'process'],\n  'IRRELEVANT'],\n [32,\n  ['data', 'databricks', 'environment', 'hi', 'p', 'project', 'set'],\n  'IRRELEVANT'],\n [33,\n  ['3',\n   'architecture',\n   'b',\n   'data',\n   'design',\n   'dynamic',\n   'environment',\n   'experience',\n   'hub',\n   'infrastructure',\n   'integration',\n   'large',\n   'layer',\n   'line',\n   'microsoft',\n   'model',\n   'nv',\n   'platform',\n   'practice',\n   'product',\n   'project',\n   'set',\n   'setup',\n   'solution'],\n  'IRRELEVANT'],\n [34,\n  ['able',\n   'automation',\n   'aws',\n   'azure',\n   'b',\n   'cloud',\n   'code',\n   'data',\n   'design',\n   'desk',\n   'develop',\n   'devops',\n   'experience',\n   'flow',\n   'gem',\n   'git',\n   'house',\n   'learn',\n   'maintain',\n   'nv',\n   'power',\n   'service',\n   'solution',\n   'system',\n   'work'],\n  'IRRELEVANT'],\n [35,\n  ['analyse',\n   'bi',\n   'co',\n   'data',\n   'design',\n   'e',\n   'ms',\n   'optimization',\n   'project',\n   'tal'],\n  'IRRELEVANT'],\n [36,\n  ['analyse',\n   'application',\n   'architect',\n   'architecture',\n   'asset',\n   'automation',\n   'b',\n   'cd',\n   'ci',\n   'cka',\n   'cks',\n   'cloud',\n   'code',\n   'container',\n   'culture',\n   'customer',\n   'data',\n   'design',\n   'develop',\n   'devops',\n   'docker',\n   'dynamic',\n   'e',\n   'engineer',\n   'environment',\n   'experience',\n   'g',\n   'git',\n   'go',\n   'h',\n   'infrastructure',\n   'java',\n   'language',\n   'linux',\n   'maintain',\n   'make',\n   'model',\n   'nc',\n   'platform',\n   'product',\n   'quality',\n   'red',\n   'scalable',\n   'security',\n   'specialist',\n   'system',\n   'tp',\n   'us',\n   'use',\n   'value',\n   'w',\n   'work'],\n  'IRRELEVANT'],\n [37,\n  ['able',\n   'api',\n   'b',\n   'cloud',\n   'code',\n   'container',\n   'customer',\n   'design',\n   'develop',\n   'devops',\n   'eco',\n   'engineer',\n   'environment',\n   'experience',\n   'integration',\n   'java',\n   'learn',\n   'linux',\n   'quality',\n   'security',\n   'sql',\n   'stack',\n   'system',\n   'tech',\n   'use',\n   'work'],\n  'IRRELEVANT'],\n [38,\n  ['analyse',\n   'bi',\n   'co',\n   'data',\n   'design',\n   'e',\n   'ms',\n   'optimization',\n   'project',\n   'tal'],\n  'IRRELEVANT'],\n [39, ['hand', 'per', 'ratio', 'tom'], 'IRRELEVANT'],\n [40,\n  ['architect',\n   'aws',\n   'azure',\n   'b',\n   'cloud',\n   'co',\n   'code',\n   'data',\n   'databricks',\n   'dax',\n   'devops',\n   'docker',\n   'emr',\n   'engineer',\n   'etl',\n   'factory',\n   'infrastructure',\n   'integration',\n   'io',\n   'lambda',\n   'machine',\n   'ms',\n   'per',\n   'project',\n   'sql',\n   'ssms',\n   'stream',\n   'studio',\n   'synapse',\n   'v',\n   'visual',\n   'xp'],\n  'IRRELEVANT'],\n [41,\n  ['azure',\n   'data',\n   'databricks',\n   'engineer',\n   'factory',\n   'intelligence',\n   'pa',\n   'sql',\n   'synapse',\n   'tel'],\n  'IRRELEVANT'],\n [42,\n  ['3',\n   'alm',\n   'analyst',\n   'azure',\n   'b',\n   'bi',\n   'co',\n   'datasets',\n   'design',\n   'devops',\n   'eng',\n   'fr',\n   'microsoft',\n   'nv',\n   'product',\n   'service',\n   'sql',\n   'tool',\n   'topdesk'],\n  'IRRELEVANT'],\n [0,\n  ['3',\n   'advanced',\n   'architect',\n   'azure',\n   'b',\n   'bi',\n   'cd',\n   'ci',\n   'cloud',\n   'container',\n   'culture',\n   'data',\n   'databricks',\n   'dbt',\n   'delta',\n   'design',\n   'docker',\n   'engineer',\n   'environment',\n   'experience',\n   'iba',\n   'iot',\n   'lake',\n   'learn',\n   'level',\n   'line',\n   'main',\n   'platform',\n   'power',\n   'scalable',\n   'setup',\n   'sql',\n   'top',\n   'us',\n   'use',\n   'value',\n   'warehouse',\n   'work'],\n  'DATA_ENGINEER'],\n [1,\n  ['3',\n   'azure',\n   'bi',\n   'data',\n   'databricks',\n   'engineer',\n   'factory',\n   'ict',\n   'iot',\n   'lake',\n   'ms',\n   'ot',\n   'p',\n   'per',\n   'power',\n   'project',\n   'sign',\n   'stream',\n   'tel',\n   'vault'],\n  'DATA_ENGINEER'],\n [2,\n  ['3',\n   'able',\n   'act',\n   'advanced',\n   'analyst',\n   'application',\n   'b',\n   'bi',\n   'big',\n   'bnp',\n   'bnpp',\n   'culture',\n   'customer',\n   'data',\n   'develop',\n   'devops',\n   'dynamic',\n   'engineer',\n   'environment',\n   'experience',\n   'g',\n   'handle',\n   'hub',\n   'java',\n   'language',\n   'main',\n   'make',\n   'oracle',\n   'platform',\n   'pro',\n   'prod',\n   'product',\n   'quality',\n   'requirement',\n   'scala',\n   'sense',\n   'service',\n   'soft',\n   'solution',\n   'strategy',\n   'tool',\n   'work',\n   'works'],\n  'DATA_ENGINEER'],\n [3,\n  ['3',\n   'act',\n   'architect',\n   'architecture',\n   'aws',\n   'azure',\n   'data',\n   'design',\n   'e',\n   'environment',\n   'experience',\n   'g',\n   'integration',\n   'pi',\n   'platform',\n   'practice',\n   'program',\n   'project',\n   'report',\n   'roadmap',\n   'solution',\n   'us'],\n  'DATA_ENGINEER'],\n [4,\n  ['architect',\n   'architecture',\n   'aws',\n   'cloud',\n   'co',\n   'data',\n   'el',\n   'h',\n   'p',\n   'platform',\n   'practice',\n   'rate',\n   'strategy',\n   'v'],\n  'DATA_ENGINEER'],\n [5,\n  ['api',\n   'architecture',\n   'art',\n   'aws',\n   'b',\n   'big',\n   'cloud',\n   'customer',\n   'data',\n   'devops',\n   'emr',\n   'engine',\n   'engineer',\n   'environment',\n   'experience',\n   'infrastructure',\n   'insight',\n   'level',\n   'maintain',\n   'make',\n   'ops',\n   'platform',\n   'power',\n   'project',\n   'quality',\n   'scalable',\n   'us',\n   'value',\n   'w',\n   'work'],\n  'DATA_ENGINEER'],\n [6,\n  ['architecture',\n   'aws',\n   'big',\n   'cd',\n   'ci',\n   'cloud',\n   'code',\n   'contain',\n   'customer',\n   'data',\n   'design',\n   'docker',\n   'dynamic',\n   'e',\n   'emr',\n   'engine',\n   'engineer',\n   'experience',\n   'form',\n   'infrastructure',\n   'large',\n   'learn',\n   'level',\n   'linux',\n   'make',\n   'nv',\n   'optimization',\n   'platform',\n   'product',\n   'quality',\n   'roadmap',\n   's3',\n   'sagemaker',\n   'security',\n   'sql',\n   'system',\n   'ter',\n   'us',\n   'use',\n   'value',\n   'work'],\n  'DATA_ENGINEER'],\n [7,\n  ['advanced',\n   'api',\n   'architect',\n   'architecture',\n   'azure',\n   'bi',\n   'cloud',\n   'data',\n   'databricks',\n   'db',\n   'delta',\n   'design',\n   'develop',\n   'dive',\n   'environment',\n   'experience',\n   'ic',\n   'integration',\n   'lake',\n   'language',\n   'level',\n   'maintain',\n   'microsoft',\n   'model',\n   'ms',\n   'platform',\n   'power',\n   'process',\n   'product',\n   'quality',\n   'scalable',\n   'security',\n   'setup',\n   'sql',\n   'stack',\n   'synapse',\n   'work'],\n  'DATA_ENGINEER'],\n [8,\n  ['api',\n   'asset',\n   'azure',\n   'b',\n   'central',\n   'data',\n   'databricks',\n   'devops',\n   'docker',\n   'engineer',\n   'factory',\n   'hr',\n   'hub',\n   'iot',\n   'lake',\n   'microsoft',\n   'nv',\n   'platform',\n   'safe',\n   'stream',\n   'use'],\n  'DATA_ENGINEER'],\n [9,\n  ['3',\n   'advanced',\n   'asset',\n   'b',\n   'central',\n   'customer',\n   'dashboard',\n   'data',\n   'design',\n   'develop',\n   'e',\n   'engineer',\n   'environment',\n   'excel',\n   'experience',\n   'flow',\n   'g',\n   'h',\n   'hub',\n   'infrastructure',\n   'kibana',\n   'lake',\n   'large',\n   'make',\n   'per',\n   'platform',\n   'process',\n   'project',\n   'quality',\n   'r',\n   'report',\n   'require',\n   'security',\n   'service',\n   'set',\n   'sets',\n   'setup',\n   'shiny',\n   'solution',\n   'sql',\n   'strategic',\n   'stream',\n   'structure',\n   'studio',\n   'top',\n   'use',\n   'value',\n   'w',\n   'warehouse',\n   'work'],\n  'DATA_ENGINEER'],\n [10,\n  ['api',\n   'architect',\n   'aws',\n   'b',\n   'big',\n   'contain',\n   'data',\n   'design',\n   'di',\n   'engineer',\n   'etl',\n   'form',\n   'lambda',\n   'manage',\n   'process',\n   'quality',\n   'red',\n   's3',\n   'safe',\n   'set',\n   'strategic',\n   'structured',\n   'system',\n   'tool',\n   'use'],\n  'DATA_ENGINEER'],\n [11,\n  ['analyse',\n   'aws',\n   'azure',\n   'b',\n   'big',\n   'cloud',\n   'code',\n   'data',\n   'design',\n   'dynamic',\n   'ecosystem',\n   'engineer',\n   'environment',\n   'experience',\n   'infrastructure',\n   'integration',\n   'lambda',\n   'machine',\n   'main',\n   'model',\n   'platform',\n   's3',\n   'sagemaker',\n   'security',\n   'service',\n   'skill',\n   'solution',\n   'top',\n   'vpc',\n   'work'],\n  'DATA_ENGINEER']]"
     },
     "execution_count": 147,
     "metadata": {},
     "output_type": "execute_result"
    }
   ],
   "source": [
    "training_data = []\n",
    "for mail in mails:\n",
    "    data = [mail['item_id'],mail['keywords'],mail['label']]\n",
    "    training_data.append(data)\n",
    "training_data"
   ],
   "metadata": {
    "collapsed": false,
    "ExecuteTime": {
     "end_time": "2024-03-25T09:38:27.185150600Z",
     "start_time": "2024-03-25T09:38:27.182625400Z"
    }
   },
   "id": "5f60becc5324335"
  },
  {
   "cell_type": "code",
   "execution_count": 148,
   "outputs": [
    {
     "name": "stdout",
     "output_type": "stream",
     "text": [
      "Bagged AdaBoost Classifier Report:\n",
      "               precision    recall  f1-score   support\n",
      "\n",
      "  BI_ENGINEER       1.00      0.88      0.93        16\n",
      "DATA_ENGINEER       0.00      0.00      0.00         3\n",
      "   IRRELEVANT       0.74      1.00      0.85        14\n",
      "\n",
      "     accuracy                           0.85        33\n",
      "    macro avg       0.58      0.62      0.59        33\n",
      " weighted avg       0.80      0.85      0.81        33\n"
     ]
    },
    {
     "name": "stderr",
     "output_type": "stream",
     "text": [
      "/home/jurrean/miniconda3/envs/project_env/lib/python3.11/site-packages/sklearn/metrics/_classification.py:1471: UndefinedMetricWarning: Precision and F-score are ill-defined and being set to 0.0 in labels with no predicted samples. Use `zero_division` parameter to control this behavior.\n",
      "  _warn_prf(average, modifier, msg_start, len(result))\n",
      "/home/jurrean/miniconda3/envs/project_env/lib/python3.11/site-packages/sklearn/metrics/_classification.py:1471: UndefinedMetricWarning: Precision and F-score are ill-defined and being set to 0.0 in labels with no predicted samples. Use `zero_division` parameter to control this behavior.\n",
      "  _warn_prf(average, modifier, msg_start, len(result))\n",
      "/home/jurrean/miniconda3/envs/project_env/lib/python3.11/site-packages/sklearn/metrics/_classification.py:1471: UndefinedMetricWarning: Precision and F-score are ill-defined and being set to 0.0 in labels with no predicted samples. Use `zero_division` parameter to control this behavior.\n",
      "  _warn_prf(average, modifier, msg_start, len(result))\n"
     ]
    }
   ],
   "source": [
    "from sklearn.model_selection import train_test_split, GridSearchCV\n",
    "from sklearn.ensemble import AdaBoostClassifier, BaggingClassifier\n",
    "from sklearn.metrics import classification_report\n",
    "import numpy as np\n",
    "\n",
    "\n",
    "class_mapping = {'BI_ENGINEER': 0, 'DATA_ENGINEER': 1, 'IRRELEVANT': 2}\n",
    "reverse_class_mapping = {v: k for k, v in class_mapping.items()}\n",
    "\n",
    "\n",
    "X = []\n",
    "y = []\n",
    "for item in training_data:\n",
    "    X.append(loaded_vectorizer.transform([' '.join(item[1])]).todense().tolist()[0]) #This is such a dumb function find a better one\n",
    "    y.append(class_mapping[item[2]])\n",
    "X = np.array(X)\n",
    "X_train, X_test, y_train, y_test = train_test_split(X, y, test_size=0.33, random_state=42)\n",
    "\n",
    "base_estimator = AdaBoostClassifier(random_state=42, learning_rate=0.8, n_estimators=50)\n",
    "bagged_adaboost = BaggingClassifier(estimator=base_estimator, random_state=42, n_estimators=100)\n",
    "bagged_adaboost.fit(X_train, y_train)\n",
    "y_pred_bagged_adaboost = bagged_adaboost.predict(X_test)\n",
    "\n",
    "\n",
    "y_test_mapped = [reverse_class_mapping[label] for label in y_test]\n",
    "y_pred_mapped_bagged_adaboost = [reverse_class_mapping[label] for label in y_pred_bagged_adaboost]\n",
    "print(\"Bagged AdaBoost Classifier Report:\")\n",
    "print(classification_report(y_test_mapped, y_pred_mapped_bagged_adaboost))"
   ],
   "metadata": {
    "collapsed": false,
    "ExecuteTime": {
     "end_time": "2024-03-25T09:38:31.982827200Z",
     "start_time": "2024-03-25T09:38:27.201781500Z"
    }
   },
   "id": "8d0d0e1abb0fb5ed"
  },
  {
   "cell_type": "code",
   "execution_count": 149,
   "outputs": [],
   "source": [
    "want_save = False\n",
    "if want_save:\n",
    "    joblib.dump(bagged_adaboost, 'adaboost_model.joblib')\n",
    "\n",
    "bagged_adaboost = joblib.load('adaboost_model.joblib')"
   ],
   "metadata": {
    "collapsed": false,
    "ExecuteTime": {
     "end_time": "2024-03-25T09:38:33.543051200Z",
     "start_time": "2024-03-25T09:38:31.982827200Z"
    }
   },
   "id": "a4231f589ab5f9cc"
  },
  {
   "cell_type": "code",
   "execution_count": 150,
   "outputs": [],
   "source": [
    "m1 = {\n",
    "        \"item_id\": 2,\n",
    "        \"sender\": \"fa1893951762d28976f3feadb80a14241951b5cd7c56e5866c6a89fc5abc26b9\",\n",
    "        \"sender_email\": \"eab1a00874aa0b0455d0b763499e74df6b97bbcdf221d9db2a6614c8bb4abd52\",\n",
    "        \"datetime_received\": 1701077485000,\n",
    "        \"sensitivity\": \"Normal\",\n",
    "        \"subject\": \"Kandidaat  senior Data Engineer  - Data BNP Paribas Fortis?\",\n",
    "        \"text_body\": \"Dear,\\r\\n\\r\\nRole category -\\r\\nRole profile\\r\\n S5 - Data\\r\\n Data Engineer - Senior\\r\\nJob title\\r\\n Data Engineer\\r\\nWork location\\r\\n BRU.-MONTAGNE DU PARC/WARANDEBERG\\r\\n MONTAGNE DU PARC 3\\r\\n 1000 BRUXELLES\\r\\nStart date\\r\\n 01/12/2023\\r\\nEnd date\\r\\n 29/11/2024\\r\\nDescription\\r\\n\\r\\nMission context\\r\\n\\r\\nData Engineer\\r\\n\\r\\nThe Data Hub tribe is one of the key components of the Data department, to help developing and rolling out the bank-wide BI and Data strategy at BNP Paribas Fortis.  Its mission is to service all metiers and functions of the bank with transversal BI solutions (front and backend developments) & tools. In doing so, the Data Hub team will contribute  to the spreading of the new data governance and \\u201cKnow your data\\u201d culture throughout BNPP Fortis.\\r\\nFunction  description\\r\\n\\r\\n\\r\\n- As a data engineer / data modeller you establish, improve  and deploy modelling standard&guidelines for the whole Datehub tribe by coaching and assisting the data engineers in the usage of these S&G.\\r\\n\\r\\n\\r\\n?- As a data engineer / data modeller  you will assess on a regular basis the datamodels on the correct application of the rules/guidelines/standards by the data engineers.  This involves a close collaboration with the data architects and data managers and a detailed knowledge of  the BNP Paribas Fortis standards.\\r\\n\\r\\n\\r\\n?- As a data engineer / data modeller you will create awareness on data modelling by promoting techniques that make sense via chapter meetings or by giving trainings to functional and technical data engineers\\r\\n\\r\\n\\r\\n?- As a data engineer /  data modeller  you will act as a DBA in the NON-PROD environment by supporting the technical data engineers in the preparation , in the validation and in the execution of the ORACLE scripts. Also support the data engineers in optimizing performance on existing databases.\\r\\n\\r\\n\\r\\n?- As a data engineer /  data modeller you follow  and develop yourself in the recent  IT-and DATA evolutions (internal and external) and propose innovative data solutions that can help  improve business activities.\\r\\n\\r\\n\\r\\n\\r\\nWith the squad, the data engineer works on solution description and implementation of different projects and enhancements within the big data hub-environment .  Main technologies used on the data hub platform are Scala, Java, Kafka, Flink, Hadoop, Spark, Hive, ... Having experience in building applicative framework and generic components on the datahub is a must have.\\r\\n\\r\\nThis mission will focus on what we call the run the  bank activities where the focus will be monitoring the operational environments, keep them in a good shape, identify tracks of continuous improvement.  Also the deployments on the dathub  in a the NON-PROD and PROD environment is an important activity in this mission. Accuracy in the preparation and the execution of the deployments as well as good communication are crucial for this mission.\\r\\n Language requirements\\r\\nDutch\\r\\n\\r\\n\\r\\n  *   Preferable , but not mandatory\\r\\nFrench\\r\\n\\r\\n\\r\\n  *   Preferable , but not mandatory\\r\\nEnglish\\r\\n\\r\\n\\r\\n  *   Sound knowledge\\r\\nEducation\\r\\n\\r\\n\\r\\n  *   Bachelor/Master \\u2018s degree in IT or engineering or equivalent by professional experience\\r\\nCertification\\r\\n\\r\\nTravel\\r\\n\\r\\nAgile requirements\\r\\nAn analyst involved in Agile projects must have the \\\"Agile mindset\\\" which implies:\\r\\n\\r\\n  *   a positive attitude and pragmatism\\r\\n  *   thirst for knowledge: Agile is about learning and adapting. Knowledge sharing is key to success.\\r\\n  *   The goal of team success: Agile is about the success of the team, no individual success or heroic behavior. It is more important for the team to succeed than for the individual to have completed his/her tasks.\\r\\n  *   There is no failure, only feedback: Agile is about taking everything as lessons, adjusting actions based on the feedback, resulting in continuous improvement.\\r\\n\\r\\n\\r\\nBeyond the roles:  Agile teams are cross-functional.  All required disciplines are represented in the team (analysis, development, testing, \\u2026 ). However, although team members have a primary role representing a discipline, they are expected to take on other roles and contribute to other disciplines  whenever it helps towards reaching the sprint goal.\\r\\nRequired experience / knowledge\\r\\nAt least 5 years of relevant experience\\r\\nTechnical experience\\r\\nmandatory\\r\\n\\r\\n\\r\\n  *\\r\\n\\r\\n?You have at least 5 years of experience with data in any of the financial domain (product related, business related).  Having a significant experience in Big Data technologies and platforms is an advantage.\\r\\n\\r\\n\\r\\n  *\\r\\n\\r\\n?You have practical experience with Datavault modelling.  You are familiar with Powerdesigner or any other modelling tool.\\r\\n\\r\\npreferable\\r\\n\\r\\n\\r\\n  *   Knowing and experienced DEVOPS-practices.\\r\\nBusiness experience\\r\\nmandatory\\r\\nExperience with working in a complex organization\\r\\npreferable\\r\\nSpecific requirement for agile: practical experience with Scrum\\r\\nSoft skills\\r\\n\\r\\n\\u00b7       Good analytical and problem solving skills.\\r\\n\\u00b7       Quick self-starter, pro-active attitude\\r\\n\\u00b7       Team player  always ready to share, train or provide support to others.\\r\\n\\u00b7       Autonomy, commitment and perseverance\\r\\n\\u00b7       Flexible, accurate & control minded.\\r\\n\\u00b7       Ability to work in a dynamic and multi-cultural environment\\r\\n\\u00b7       Ability to deliver results respecting deadlines\\r\\n\\u00b7       Good oral and written communication. Ability to turn advanced technical topics and industry jargon into easy-to-understand information .\\r\\n\\u00b7       Quality driven and cost avoidance minded\\r\\n\\u00b7       Able to handle changing priorities\\r\\n\\u00b7       Customer focus\\r\\n\\u00b7       Passionate about data\\r\\n\\r\\n\\r\\n\\r\\n  Please submit your candidate in the attached template!\\r\\n\\r\\nTx!\\r\\n\\r\\n\\r\\n[CRONOS-logo]\\r\\n\\r\\nKind regards,\\r\\nKristin\\r\\nBusiness development & Account Management\\r\\n\\r\\n##################@email.com<mailto:##################@email.com>\\r\\nhttps://www.cronos.be<https://safelink.com/?url=https%3A%2F%2Fwww.cronos.be%2F&data=05%7C01%##################%40email.com%7Cd8c67f4344984886f16d08dbef2b95d5%7C49c3d703357947bfa8887c913fbdced9%7C0%7C0%7C638366742848525374%7CUnknown%7CTWFpbGZsb3d8eyJWIjoiMC4wLjAwMDAiLCJQIjoiV2luMzIiLCJBTiI6Ik1haWwiLCJXVCI6Mn0%3D%7C3000%7C%7C%7C&sdata=YjKRof3uoBKafY8wMZnkLzgfxR3%2FZe6VGTvvIrjPSis%3D&reserved=0>\\r\\nVeldkant 33A | B-2550 Kontich\\r\\n\\r\\n\\r\\n\\r\\n\\r\\n\",\n",
    "        \"label\": \"DATA_ENGINEER\",\n",
    "        \"keywords\": [\n",
    "            \"3\",\n",
    "            \"able\",\n",
    "            \"act\",\n",
    "            \"advanced\",\n",
    "            \"analyst\",\n",
    "            \"application\",\n",
    "            \"b\",\n",
    "            \"bi\",\n",
    "            \"big\",\n",
    "            \"bnp\",\n",
    "            \"bnpp\",\n",
    "            \"culture\",\n",
    "            \"customer\",\n",
    "            \"data\",\n",
    "            \"develop\",\n",
    "            \"devops\",\n",
    "            \"dynamic\",\n",
    "            \"engineer\",\n",
    "            \"environment\",\n",
    "            \"experience\",\n",
    "            \"g\",\n",
    "            \"handle\",\n",
    "            \"hub\",\n",
    "            \"java\",\n",
    "            \"language\",\n",
    "            \"main\",\n",
    "            \"make\",\n",
    "            \"oracle\",\n",
    "            \"platform\",\n",
    "            \"pro\",\n",
    "            \"prod\",\n",
    "            \"product\",\n",
    "            \"quality\",\n",
    "            \"requirement\",\n",
    "            \"scala\",\n",
    "            \"sense\",\n",
    "            \"service\",\n",
    "            \"soft\",\n",
    "            \"solution\",\n",
    "            \"strategy\",\n",
    "            \"tool\",\n",
    "            \"work\",\n",
    "            \"works\"\n",
    "        ]\n",
    "} # DATA ENGINEER\n",
    "\n",
    "m2 = {\n",
    "        \"item_id\": 0,\n",
    "        \"sender\": \"3cc523fa094d021b3061df403de12d83235b5cda585faede10ba0f7ab3b308eb\",\n",
    "        \"sender_email\": \"fe2c9a4131b00cfe30ad4197c301d33bc8670daf865588d9bbff61436ff2e1cc\",\n",
    "        \"datetime_received\": 1707731005000,\n",
    "        \"sensitivity\": \"Normal\",\n",
    "        \"subject\": \"Gezocht: Project Manager (Overheidsklant)\",\n",
    "        \"text_body\": \"Beste collega\\u2019s,\\r\\n\\r\\nVoor een overheidsklant regio Brussel (Anderlecht) zijn we op zoek naar een Senior Project Manager. Meer info:\\r\\n\\r\\nGewenste startdatum: 04/03/2024\\r\\nVoorlopige einddatum: 31/12/2024\\r\\nRegime: Voltijds\\r\\nLocatie: Brussel (Anderlecht)\\r\\nTalen: NL of FR + ENG\\r\\nRemote/onsite: 2d onsite, 3d remote\\r\\n\\r\\nOmschrijving\\r\\nThe primary role of the Project Manager is to work closely with customers to drive the successful delivery of IT projects\\r\\n\\r\\n  *   1st, 2nd Line Support and Technical Field services\\r\\n  *   End user Services: Engineering and Device Platform Management\\r\\n  *   Problem- & Change Management and Business Service Management\\r\\n  *   Request, Fulfillment, Invoicing, Tendering\\r\\n  *   Quality Assurance & Continuous Improvement\\r\\n  *   Facility Security Management for Safety, Security and Building technologies\\r\\n  *   Telecom: Telephony solutions, Radio Solutions\\r\\n  *   Infrastructure: Infrastructure, Nework and Computing\\r\\nThe Project Manager will facilitate the management of scope for the customer\\u2019s requirements, plan implementations and deliver to the planned scope and budget.\\r\\n\\r\\nVerantwoordelijkheden\\r\\n\\r\\n  *   Leads project delivery from beginning to end;\\r\\n  *   Define project scope, goals and deliverables that support business goals in collaboration with management and stakeholders;\\r\\n  *   Develop full-scale project plans and associated communications documents following the company\\u2019s standard;\\r\\n  *   Draft and submit budget proposals, and recommend subsequent budget changes where necessary as per defined process;\\r\\n  *   Ensure that project meets it\\u2019s deliverables in agreed schedule, as per the scope, within stipulated budget and as per the quality standards;\\r\\n  *   Effectively communicate project expectations to team lead and stakeholders in a timely and clear fashion;\\r\\n  *   Ensures project or service scope and deliverables are defined and agreed with all relevant parties;\\r\\n  *   Liaise with client and IT Teams on an ongoing basis\\r\\n  *   Diagnoses and evaluates potential risks and issues throughout the project and executes appropriate plans to mitigate them. Reports regularly to the Team Lead and Stakeholders with regard to risks,\\r\\n  *   Be a key member of the overall Operations Team\\r\\n\\r\\nKennis & ervaring\\r\\n\\r\\n  *   15 + years relevant experience with project management in different domains\\r\\n  *   Strong affinity with enterprise technology and its complexity is an added value, like active directory, Computing, storage, cloud, network\\r\\n  *   Relevant experience and proven record in one of the following domains as PM :\\r\\n     *   Windows platform (8, 10, 11)\\r\\n     *   Mobile devices (smartphones, tablets,\\u2026)\\r\\n     *   Infrastructure (network, storage, computing, cloud)\\r\\n  *   Experience within Public Sector will also be considered an asset\\r\\n  *   Recognises and applies our Core Values: Professionalism, Respect, Entrepreneurship, Corporation and Leadership\\r\\n  *   Demonstrated \\u201ccan do\\u201d work ethic coupled with effective time management and ability to overcome ambiguously or under-defined problems\\r\\n  *   Knowledge of Agile delivery methodology and SAFe (Essentials) are considered an asset\\r\\n  *   ITIL Certification is a MUST. Project Methodology Certification is a MUST.\\r\\n  *   Can facilitate Steerco, project update meetings and guide resources.\\r\\n  *   Possesses the ability to communicate, present and produce documentation on various levels for differing audiences\\r\\n  *   Proficient in Dutch or French, and English.\\r\\n\\r\\nAls je een geschikte kandidaat hebt dan hoor ik het graag.\\r\\n\\r\\nMet vriendelijke groeten,\\r\\nWout\\r\\n\\r\\nCRONOS PUBLIC SERVICES\\r\\n\\r\\n\\r\\n[Image]\\r\\nAccount Coordinator\\r\\n##################@email.com<mailto:##################@email.com>\\r\\nhttps://www.linkedin.com/in/wout-van-bavel/<https://safelink.com/?url=https%3A%2F%2Fwww.linkedin.com%2Fin%2Fwout-van-bavel%2F&data=05%7C02%##################%40email.com%7C6b1373add3ae4ea6f39808dc2baf04ce%7C49c3d703357947bfa8887c913fbdced9%7C0%7C0%7C638433278052966887%7CUnknown%7CTWFpbGZsb3d8eyJWIjoiMC4wLjAwMDAiLCJQIjoiV2luMzIiLCJBTiI6Ik1haWwiLCJXVCI6Mn0%3D%7C0%7C%7C%7C&sdata=4%2Bexz6W6C10sbO0uFWhKsKwJ4pjv%2F5D6yP142mcbT2U%3D&reserved=0>\\r\\n<tel:+324## ## ## ##>\\r\\n\\r\\n[website]<https://safelink.com/?url=https%3A%2F%2Fwww.cronos-public-services.be%2F&data=05%7C02%##################%40email.com%7C6b1373add3ae4ea6f39808dc2baf04ce%7C49c3d703357947bfa8887c913fbdced9%7C0%7C0%7C638433278052980763%7CUnknown%7CTWFpbGZsb3d8eyJWIjoiMC4wLjAwMDAiLCJQIjoiV2luMzIiLCJBTiI6Ik1haWwiLCJXVCI6Mn0%3D%7C0%7C%7C%7C&sdata=c%2BZwgbMsJFfXaghWEFqE6LQp8QbfDbEcZ4McrnSgheo%3D&reserved=0>\\r\\n[linkedin]<https://safelink.com/?url=https%3A%2F%2Fwww.linkedin.com%2Fcompany%2Fcronos-public-services-nv%2F&data=05%7C02%##################%40email.com%7C6b1373add3ae4ea6f39808dc2baf04ce%7C49c3d703357947bfa8887c913fbdced9%7C0%7C0%7C638433278052988751%7CUnknown%7CTWFpbGZsb3d8eyJWIjoiMC4wLjAwMDAiLCJQIjoiV2luMzIiLCJBTiI6Ik1haWwiLCJXVCI6Mn0%3D%7C0%7C%7C%7C&sdata=qNA0kwQjHLyndd2W15Z556lFC8xQJt5Tyyk5RSh8KKs%3D&reserved=0>\\r\\n[Nieuwsbrief]<https://safelink.com/?url=https%3A%2F%2Fwww.cronos-public-services.be%2Fnieuwsbrief%2F&data=05%7C02%##################%40email.com%7C6b1373add3ae4ea6f39808dc2baf04ce%7C49c3d703357947bfa8887c913fbdced9%7C0%7C0%7C638433278052994865%7CUnknown%7CTWFpbGZsb3d8eyJWIjoiMC4wLjAwMDAiLCJQIjoiV2luMzIiLCJBTiI6Ik1haWwiLCJXVCI6Mn0%3D%7C0%7C%7C%7C&sdata=7GbwOjFsQmKhs7xPWMtUKpsoG4zXzWsmrOEVervCAqQ%3D&reserved=0>\\r\\n\\r\\nDe inhoud van deze e-mail en eventuele bijlagen bevat mogelijks confidenti\\u00eble informatie. De informatie is uitsluitend bestemd voor de geadresseerde. Indien u dit bericht ten onrechte ontvangt, wordt u verzocht de inhoud niet te gebruiken maar de afzender direct te informeren door het bericht te retourneren en het daarna te verwijderen. De afzender van deze e-mail is niet aansprakelijk voor enige directe of indirecte schade die voortvoeit uit fouten, onnauwkeurigheden of verlies van informatie in geval van ongeoorloofd(e) gebruik, openbaarmaking, duplicatie of wijziging van het bericht.\\r\\n\\r\\n[Afbeelding met tekst, Lettertype, schermopname, logo  Automatisch gegenereerde beschrijving]<https://safelink.com/?url=https%3A%2F%2Fcronos-public-services.be%2Fportfolio%2Fde-cronos-groep-wordt-door-data-news-erkend-als-customer-centric-it-company-of-the-year&data=05%7C02%##################%40email.com%7C6b1373add3ae4ea6f39808dc2baf04ce%7C49c3d703357947bfa8887c913fbdced9%7C0%7C0%7C638433278053001076%7CUnknown%7CTWFpbGZsb3d8eyJWIjoiMC4wLjAwMDAiLCJQIjoiV2luMzIiLCJBTiI6Ik1haWwiLCJXVCI6Mn0%3D%7C0%7C%7C%7C&sdata=RvcX8ifvl0ZTMZkPU%2BdBsGzUgs%2BKXNh07uopw%2FFGxBo%3D&reserved=0>\\r\\n\\r\\n\",\n",
    "        \"label\": \"IRRELEVANT\",\n",
    "        \"keywords\": [\n",
    "            \"asset\",\n",
    "            \"cloud\",\n",
    "            \"customer\",\n",
    "            \"data\",\n",
    "            \"develop\",\n",
    "            \"e\",\n",
    "            \"eng\",\n",
    "            \"experience\",\n",
    "            \"fr\",\n",
    "            \"infrastructure\",\n",
    "            \"line\",\n",
    "            \"nv\",\n",
    "            \"per\",\n",
    "            \"platform\",\n",
    "            \"process\",\n",
    "            \"project\",\n",
    "            \"quality\",\n",
    "            \"safe\",\n",
    "            \"security\",\n",
    "            \"service\",\n",
    "            \"tel\",\n",
    "            \"value\",\n",
    "            \"work\"\n",
    "        ]\n",
    "    } # IRRELEVANT\n",
    "\n",
    "m3 =  {\n",
    "        \"item_id\": 41,\n",
    "        \"sender\": \"595496ee7241feb8216578b851a064ff0a8e6792d0eeabf9bca9139acc3aa741\",\n",
    "        \"sender_email\": \"dbfc75f08bcb02130e9cc481a63b8fe41e3d7ea9869ec89b326020e368809365\",\n",
    "        \"datetime_received\": 1662661327000,\n",
    "        \"sensitivity\": \"Normal\",\n",
    "        \"subject\": \"Business/Funct. Analyst (1. Junior (1-3)) for SWIFT - SWI000578  - Reactiedatum verlengd! \",\n",
    "        \"text_body\": \"ENKEL RECHTSTREEKS, GEEN TUSSENPARTIJEN AUB\\r\\n\\r\\n\\r\\n\\r\\nHallo collega\\u2019s,\\r\\n\\r\\n\\r\\n\\r\\nVoor Swift zoeken we Business/Funct. Analyst (1. Junior (1-3)) SWI000578  die voldoet aan volgende beschrijving:\\r\\nUiterste reactiedatum: 30/09/2022\\r\\nGewenste startdatum: 01/09/2022\\r\\nEinddatum: 31/12/2022\\r\\nReferentie: SWI000578\\r\\nTitel: Business/Funct. Analyst (1. Junior (1-3)\\r\\nLocatie: The Netherlands - Zoeterwoude (Energieweg 33, 2382 NC Zoeterwoude, Nederland)\\r\\nStatus: Gepubliceerd\\r\\nType contract: Time & material\\r\\n\\r\\nAantal personen: 1\\r\\nAfdeling: Technology Platform (TP)\\r\\n\\r\\nOmschrijving\\r\\n\\r\\nAbout the Role\\r\\n\\r\\nReporting to the Manager of the Cloud Business Office, the Cloud and Hosting Services Analyst for SWIFT will be helping to collect and analyze data to provide Cloud financial insights critical to our success as a business as it relates to an Infrastructure and Operations organization.\\r\\n\\r\\nResponsibilities:\\r\\n\\r\\n-Produce insightful reports that can be shared with and actioned by Management\\r\\n-Work effectively with cross-functional teams globally, assimilating requirements, driving results in the form of data insights and building strategic partnerships\\r\\n-Support the FinOps team with setting goals/KPIs, retrieving data and modeling\\r\\n-Act as the technical expert for the Cost Transparency tools/dashboards. This includes configuring functionality, creating/enhancing visualizations, maintaining design and guidance documentation, and providing support\\r\\n-Partner heavily with our Cloud Governance team to map data process flows, allowing FinOps to gather a single source of data source\\r\\n-Analyze and forecast cloud hosting costs\\r\\n-Provide cost optimization recommendations\\r\\n-Create and maintain month-end and quarter-end reports\\r\\n-Use Agile methodology for planning and execution\\r\\n-Leverage the Cloud Financial Management (CFM) tools, interpret the findings, and make technical recommendations to the business application teams to help reduce ongoing cost\\r\\n\\r\\nProfessional Skills:\\r\\n\\r\\n-Experience with automation technologies for CI/CD (Jenkins, Azure DevOps, AWS Code pipeline)\\r\\n-Experience with visualization tools (e.g., QuickSight, Power BI)\\r\\n-Knowledge of cloud cost products (e.g., Cost Explorer, Azure Portal)\\r\\n-Experience with Python, JSON, YAML, ARM, Cloud Formation\\r\\n-Knowledge of cloud management and governance tools (e.g., Cloud Custodian, Trusted Advisor)\\r\\n-Familiarity with monitoring tools such as CloudWatch, CloudTrail, etc.\\r\\n-Detail-oriented with excellent documentation skills/methodologies, who can successfully manage multiple priorities\\r\\n-Demonstrable high level of intellectual curiosity, external perspective, and innovation interest\\r\\n-Strong communication skills, including the ability to articulate complex technical topics to a non-technical or leadership audience\\r\\n\\r\\nQualifications:\\r\\n\\r\\n-Bachelor\\u2019s degree in Information Technology, Computer Science or related field\\r\\n-2+ years working in cloud computing or IT infrastructure/platforms or Finance role\\r\\n-2+ years of experience with AWS and/or Azure\\r\\n\\r\\n\\r\\n\\r\\n\\r\\nVaardigheden\\r\\n\\r\\nSPECIFIEKE VAARDIGHEDEN\\r\\n\\r\\nAWS or Azure certification:   Ja\\r\\nCloud computing or IT infrastructure/platforms or Finance role:   Junior (1-3) ( 2,00 jaar )\\r\\nCloud cost management tools:   Junior (1-3) ( 2,00 jaar )\\r\\n\\r\\n\\r\\n\\r\\n\\r\\n\\r\\n\\r\\n\\r\\nIndien jullie geschikte kandidaten hebben ontvang ik graag hun beschikbaarheid, CV en kostprijs.\\r\\n\\r\\nAlvast hartelijk bedankt.\\r\\n\\r\\n\\r\\n\\r\\n\\r\\n\\r\\nKind regards,\\r\\n\\r\\n[http://media.gutsglory.be/cronos/signatures/201606_cronos/cronos-groep.png]\\r\\nEsma \\r\\nKey Account Manager\\r\\n\\r\\n##################@email.com<mailto:##################@email.com>\\r\\n\\r\\nBusiness Park King Square\\r\\nVeldkant 33A | B-2550 Kontich\\r\\nW cronos-groep.be <https://safelink.com/?url=http%3A%2F%2Fcronos-groep.be%2F&data=05%7C01%##################%40email.com%7C27bf594cce214bbfd94c08da91c6f7b8%7C49c3d703357947bfa8887c913fbdced9%7C0%7C0%7C637982581269308292%7CUnknown%7CTWFpbGZsb3d8eyJWIjoiMC4wLjAwMDAiLCJQIjoiV2luMzIiLCJBTiI6Ik1haWwiLCJXVCI6Mn0%3D%7C3000%7C%7C%7C&sdata=LNZWbUJMz1WW8%2FZKbDHRMLdslopMzNtVpDseSsO4axI%3D&reserved=0> | T \\r\\n\\r\\n[cid:image002.jpg@01D8C3C0.88DEF580]\\r\\n\\r\\n\\r\\n\\r\\n\\r\\n\\r\\n\\r\\n\\r\\n\\r\\n\\r\\n\\r\\n\",\n",
    "        \"label\": \"BI_ENGINEER\",\n",
    "        \"keywords\": [\n",
    "            \"3\",\n",
    "            \"act\",\n",
    "            \"analyst\",\n",
    "            \"application\",\n",
    "            \"arm\",\n",
    "            \"automation\",\n",
    "            \"aws\",\n",
    "            \"azure\",\n",
    "            \"b\",\n",
    "            \"bi\",\n",
    "            \"cd\",\n",
    "            \"ci\",\n",
    "            \"cloud\",\n",
    "            \"code\",\n",
    "            \"data\",\n",
    "            \"design\",\n",
    "            \"devops\",\n",
    "            \"e\",\n",
    "            \"experience\",\n",
    "            \"form\",\n",
    "            \"g\",\n",
    "            \"infrastructure\",\n",
    "            \"innovation\",\n",
    "            \"level\",\n",
    "            \"maintain\",\n",
    "            \"make\",\n",
    "            \"manage\",\n",
    "            \"map\",\n",
    "            \"nc\",\n",
    "            \"optimization\",\n",
    "            \"pipeline\",\n",
    "            \"platform\",\n",
    "            \"power\",\n",
    "            \"process\",\n",
    "            \"strategic\",\n",
    "            \"tp\",\n",
    "            \"use\",\n",
    "            \"w\",\n",
    "            \"work\"\n",
    "        ]\n",
    "    } # BI ENGINEER"
   ],
   "metadata": {
    "collapsed": false,
    "ExecuteTime": {
     "end_time": "2024-03-25T09:38:33.557567200Z",
     "start_time": "2024-03-25T09:38:33.557567200Z"
    }
   },
   "id": "35f27863c334279a"
  },
  {
   "cell_type": "code",
   "execution_count": 151,
   "outputs": [
    {
     "data": {
      "text/plain": "['DATA_ENGINEER']"
     },
     "execution_count": 151,
     "metadata": {},
     "output_type": "execute_result"
    }
   ],
   "source": [
    "X = []\n",
    "X.append(loaded_vectorizer.transform([' '.join(m1['keywords'])]).todense().tolist()[0]) #This is such a dumb function find a better one\n",
    "X = np.array(X)\n",
    "\n",
    "y_pred = bagged_adaboost.predict(X)\n",
    "y_pred_mapped = [reverse_class_mapping[label] for label in y_pred]\n",
    "y_pred_mapped\n",
    "\n",
    " # DATA ENGINEER"
   ],
   "metadata": {
    "collapsed": false,
    "ExecuteTime": {
     "end_time": "2024-03-25T09:38:33.960080700Z",
     "start_time": "2024-03-25T09:38:33.565527600Z"
    }
   },
   "id": "5d287f9b5e4b3392"
  },
  {
   "cell_type": "code",
   "execution_count": 152,
   "outputs": [
    {
     "data": {
      "text/plain": "['IRRELEVANT']"
     },
     "execution_count": 152,
     "metadata": {},
     "output_type": "execute_result"
    }
   ],
   "source": [
    "X = []\n",
    "X.append(loaded_vectorizer.transform([' '.join(m2['keywords'])]).todense().tolist()[0]) #This is such a dumb function find a better one\n",
    "X = np.array(X)\n",
    "\n",
    "y_pred = bagged_adaboost.predict(X)\n",
    "y_pred_mapped = [reverse_class_mapping[label] for label in y_pred]\n",
    "y_pred_mapped\n",
    "\n",
    "# IRRELEVANT"
   ],
   "metadata": {
    "collapsed": false,
    "ExecuteTime": {
     "end_time": "2024-03-25T09:38:34.361929700Z",
     "start_time": "2024-03-25T09:38:33.960080700Z"
    }
   },
   "id": "8ecc1162aa4a66bc"
  },
  {
   "cell_type": "code",
   "execution_count": 153,
   "outputs": [
    {
     "data": {
      "text/plain": "['BI_ENGINEER']"
     },
     "execution_count": 153,
     "metadata": {},
     "output_type": "execute_result"
    }
   ],
   "source": [
    "X = []\n",
    "X.append(loaded_vectorizer.transform([' '.join(m3['keywords'])]).todense().tolist()[0]) #This is such a dumb function find a better one\n",
    "X = np.array(X)\n",
    "\n",
    "y_pred = bagged_adaboost.predict(X)\n",
    "y_pred_mapped = [reverse_class_mapping[label] for label in y_pred]\n",
    "y_pred_mapped\n",
    "\n",
    "# BI ENGINEER"
   ],
   "metadata": {
    "collapsed": false,
    "ExecuteTime": {
     "end_time": "2024-03-25T09:38:34.778734500Z",
     "start_time": "2024-03-25T09:38:34.361929700Z"
    }
   },
   "id": "f4c661e5755266bf"
  }
 ],
 "metadata": {
  "kernelspec": {
   "display_name": "Python 3",
   "language": "python",
   "name": "python3"
  },
  "language_info": {
   "codemirror_mode": {
    "name": "ipython",
    "version": 2
   },
   "file_extension": ".py",
   "mimetype": "text/x-python",
   "name": "python",
   "nbconvert_exporter": "python",
   "pygments_lexer": "ipython2",
   "version": "2.7.6"
  }
 },
 "nbformat": 4,
 "nbformat_minor": 5
}
