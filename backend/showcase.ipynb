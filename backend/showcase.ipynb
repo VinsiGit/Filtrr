{
 "cells": [
  {
   "cell_type": "markdown",
   "source": [
    "# Load example data"
   ],
   "metadata": {
    "collapsed": false
   },
   "id": "8ccab075194136b0"
  },
  {
   "cell_type": "code",
   "execution_count": 9,
   "outputs": [],
   "source": [
    "import json\n",
    "import warnings\n",
    "warnings.filterwarnings('ignore', category=DeprecationWarning)\n",
    "warnings.filterwarnings('ignore', category=FutureWarning)\n",
    "with open('data.json',encoding='utf-8',mode='r') as file:\n",
    "     mails = json.load(file)"
   ],
   "metadata": {
    "collapsed": false,
    "ExecuteTime": {
     "end_time": "2024-03-26T16:02:40.779000200Z",
     "start_time": "2024-03-26T16:02:40.779000200Z"
    }
   },
   "id": "3bcd1407399d00de"
  },
  {
   "cell_type": "markdown",
   "source": [
    "# Preprocessor showcase"
   ],
   "metadata": {
    "collapsed": false
   },
   "id": "cb9b6317af0dfe83"
  },
  {
   "cell_type": "code",
   "execution_count": 10,
   "outputs": [
    {
     "data": {
      "text/plain": "{'item_id': 0,\n 'sender': '3cc523fa094d021b3061df403de12d83235b5cda585faede10ba0f7ab3b308eb',\n 'sender_email': 'fe2c9a4131b00cfe30ad4197c301d33bc8670daf865588d9bbff61436ff2e1cc',\n 'datetime_received': 1707731005000,\n 'sensitivity': 'Normal',\n 'subject': 'Gezocht: Project Manager (Overheidsklant)',\n 'text_body': 'Beste collega’s,\\r\\n\\r\\nVoor een overheidsklant regio Brussel (Anderlecht) zijn we op zoek naar een Senior Project Manager. Meer info:\\r\\n\\r\\nGewenste startdatum: 04/03/2024\\r\\nVoorlopige einddatum: 31/12/2024\\r\\nRegime: Voltijds\\r\\nLocatie: Brussel (Anderlecht)\\r\\nTalen: NL of FR + ENG\\r\\nRemote/onsite: 2d onsite, 3d remote\\r\\n\\r\\nOmschrijving\\r\\nThe primary role of the Project Manager is to work closely with customers to drive the successful delivery of IT projects\\r\\n\\r\\n  *   1st, 2nd Line Support and Technical Field services\\r\\n  *   End user Services: Engineering and Device Platform Management\\r\\n  *   Problem- & Change Management and Business Service Management\\r\\n  *   Request, Fulfillment, Invoicing, Tendering\\r\\n  *   Quality Assurance & Continuous Improvement\\r\\n  *   Facility Security Management for Safety, Security and Building technologies\\r\\n  *   Telecom: Telephony solutions, Radio Solutions\\r\\n  *   Infrastructure: Infrastructure, Nework and Computing\\r\\nThe Project Manager will facilitate the management of scope for the customer’s requirements, plan implementations and deliver to the planned scope and budget.\\r\\n\\r\\nVerantwoordelijkheden\\r\\n\\r\\n  *   Leads project delivery from beginning to end;\\r\\n  *   Define project scope, goals and deliverables that support business goals in collaboration with management and stakeholders;\\r\\n  *   Develop full-scale project plans and associated communications documents following the company’s standard;\\r\\n  *   Draft and submit budget proposals, and recommend subsequent budget changes where necessary as per defined process;\\r\\n  *   Ensure that project meets it’s deliverables in agreed schedule, as per the scope, within stipulated budget and as per the quality standards;\\r\\n  *   Effectively communicate project expectations to team lead and stakeholders in a timely and clear fashion;\\r\\n  *   Ensures project or service scope and deliverables are defined and agreed with all relevant parties;\\r\\n  *   Liaise with client and IT Teams on an ongoing basis\\r\\n  *   Diagnoses and evaluates potential risks and issues throughout the project and executes appropriate plans to mitigate them. Reports regularly to the Team Lead and Stakeholders with regard to risks,\\r\\n  *   Be a key member of the overall Operations Team\\r\\n\\r\\nKennis & ervaring\\r\\n\\r\\n  *   15 + years relevant experience with project management in different domains\\r\\n  *   Strong affinity with enterprise technology and its complexity is an added value, like active directory, Computing, storage, cloud, network\\r\\n  *   Relevant experience and proven record in one of the following domains as PM :\\r\\n     *   Windows platform (8, 10, 11)\\r\\n     *   Mobile devices (smartphones, tablets,…)\\r\\n     *   Infrastructure (network, storage, computing, cloud)\\r\\n  *   Experience within Public Sector will also be considered an asset\\r\\n  *   Recognises and applies our Core Values: Professionalism, Respect, Entrepreneurship, Corporation and Leadership\\r\\n  *   Demonstrated “can do” work ethic coupled with effective time management and ability to overcome ambiguously or under-defined problems\\r\\n  *   Knowledge of Agile delivery methodology and SAFe (Essentials) are considered an asset\\r\\n  *   ITIL Certification is a MUST. Project Methodology Certification is a MUST.\\r\\n  *   Can facilitate Steerco, project update meetings and guide resources.\\r\\n  *   Possesses the ability to communicate, present and produce documentation on various levels for differing audiences\\r\\n  *   Proficient in Dutch or French, and English.\\r\\n\\r\\nAls je een geschikte kandidaat hebt dan hoor ik het graag.\\r\\n\\r\\nMet vriendelijke groeten,\\r\\nWout\\r\\n\\r\\nCRONOS PUBLIC SERVICES\\r\\n\\r\\n\\r\\n[Image]\\r\\nAccount Coordinator\\r\\n##################@email.com<mailto:##################@email.com>\\r\\nhttps://www.linkedin.com/in/wout-van-bavel/<https://safelink.com/?url=https%3A%2F%2Fwww.linkedin.com%2Fin%2Fwout-van-bavel%2F&data=05%7C02%##################%40email.com%7C6b1373add3ae4ea6f39808dc2baf04ce%7C49c3d703357947bfa8887c913fbdced9%7C0%7C0%7C638433278052966887%7CUnknown%7CTWFpbGZsb3d8eyJWIjoiMC4wLjAwMDAiLCJQIjoiV2luMzIiLCJBTiI6Ik1haWwiLCJXVCI6Mn0%3D%7C0%7C%7C%7C&sdata=4%2Bexz6W6C10sbO0uFWhKsKwJ4pjv%2F5D6yP142mcbT2U%3D&reserved=0>\\r\\n<tel:+324## ## ## ##>\\r\\n\\r\\n[website]<https://safelink.com/?url=https%3A%2F%2Fwww.cronos-public-services.be%2F&data=05%7C02%##################%40email.com%7C6b1373add3ae4ea6f39808dc2baf04ce%7C49c3d703357947bfa8887c913fbdced9%7C0%7C0%7C638433278052980763%7CUnknown%7CTWFpbGZsb3d8eyJWIjoiMC4wLjAwMDAiLCJQIjoiV2luMzIiLCJBTiI6Ik1haWwiLCJXVCI6Mn0%3D%7C0%7C%7C%7C&sdata=c%2BZwgbMsJFfXaghWEFqE6LQp8QbfDbEcZ4McrnSgheo%3D&reserved=0>\\r\\n[linkedin]<https://safelink.com/?url=https%3A%2F%2Fwww.linkedin.com%2Fcompany%2Fcronos-public-services-nv%2F&data=05%7C02%##################%40email.com%7C6b1373add3ae4ea6f39808dc2baf04ce%7C49c3d703357947bfa8887c913fbdced9%7C0%7C0%7C638433278052988751%7CUnknown%7CTWFpbGZsb3d8eyJWIjoiMC4wLjAwMDAiLCJQIjoiV2luMzIiLCJBTiI6Ik1haWwiLCJXVCI6Mn0%3D%7C0%7C%7C%7C&sdata=qNA0kwQjHLyndd2W15Z556lFC8xQJt5Tyyk5RSh8KKs%3D&reserved=0>\\r\\n[Nieuwsbrief]<https://safelink.com/?url=https%3A%2F%2Fwww.cronos-public-services.be%2Fnieuwsbrief%2F&data=05%7C02%##################%40email.com%7C6b1373add3ae4ea6f39808dc2baf04ce%7C49c3d703357947bfa8887c913fbdced9%7C0%7C0%7C638433278052994865%7CUnknown%7CTWFpbGZsb3d8eyJWIjoiMC4wLjAwMDAiLCJQIjoiV2luMzIiLCJBTiI6Ik1haWwiLCJXVCI6Mn0%3D%7C0%7C%7C%7C&sdata=7GbwOjFsQmKhs7xPWMtUKpsoG4zXzWsmrOEVervCAqQ%3D&reserved=0>\\r\\n\\r\\nDe inhoud van deze e-mail en eventuele bijlagen bevat mogelijks confidentiële informatie. De informatie is uitsluitend bestemd voor de geadresseerde. Indien u dit bericht ten onrechte ontvangt, wordt u verzocht de inhoud niet te gebruiken maar de afzender direct te informeren door het bericht te retourneren en het daarna te verwijderen. De afzender van deze e-mail is niet aansprakelijk voor enige directe of indirecte schade die voortvoeit uit fouten, onnauwkeurigheden of verlies van informatie in geval van ongeoorloofd(e) gebruik, openbaarmaking, duplicatie of wijziging van het bericht.\\r\\n\\r\\n[Afbeelding met tekst, Lettertype, schermopname, logo  Automatisch gegenereerde beschrijving]<https://safelink.com/?url=https%3A%2F%2Fcronos-public-services.be%2Fportfolio%2Fde-cronos-groep-wordt-door-data-news-erkend-als-customer-centric-it-company-of-the-year&data=05%7C02%##################%40email.com%7C6b1373add3ae4ea6f39808dc2baf04ce%7C49c3d703357947bfa8887c913fbdced9%7C0%7C0%7C638433278053001076%7CUnknown%7CTWFpbGZsb3d8eyJWIjoiMC4wLjAwMDAiLCJQIjoiV2luMzIiLCJBTiI6Ik1haWwiLCJXVCI6Mn0%3D%7C0%7C%7C%7C&sdata=RvcX8ifvl0ZTMZkPU%2BdBsGzUgs%2BKXNh07uopw%2FFGxBo%3D&reserved=0>\\r\\n\\r\\n',\n 'label': 'IRRELEVANT',\n 'keywords': ['ability',\n  'asset',\n  'cloud',\n  'customer',\n  'data',\n  'develop',\n  'e',\n  'eng',\n  'experience',\n  'fr',\n  'infrastructure',\n  'line',\n  'management',\n  'nv',\n  'per',\n  'platform',\n  'pm',\n  'process',\n  'project',\n  'quality',\n  'safe',\n  'security',\n  'service',\n  'technology',\n  'tel',\n  'ten',\n  'value',\n  'work']}"
     },
     "execution_count": 10,
     "metadata": {},
     "output_type": "execute_result"
    }
   ],
   "source": [
    "from preprocessor import Preprocessor\n",
    "\n",
    "p = Preprocessor()\n",
    "p.preprocess(email=mails[42])"
   ],
   "metadata": {
    "collapsed": false,
    "ExecuteTime": {
     "end_time": "2024-03-26T16:02:40.804763800Z",
     "start_time": "2024-03-26T16:02:40.794619500Z"
    }
   },
   "id": "1e262806dcdfcad0"
  },
  {
   "cell_type": "markdown",
   "source": [
    "# Model operator showcase"
   ],
   "metadata": {
    "collapsed": false
   },
   "id": "3a4ec9cbad5f8e6b"
  },
  {
   "cell_type": "code",
   "execution_count": 11,
   "outputs": [
    {
     "name": "stdout",
     "output_type": "stream",
     "text": [
      "origineel label: DATA_ENGINEER\n"
     ]
    },
    {
     "data": {
      "text/plain": "{'item_id': 7,\n 'sender': '25a136e8df165718d2b1e04c533e2f21022db8557de816caeeb4e3bdf3235274',\n 'sender_email': '55aaeeac5aeef0488e0c61e6e200baec2534f2f0f420c4ae34066440f786d889',\n 'datetime_received': 1698140515000,\n 'sensitivity': 'Normal',\n 'subject': 'MS Azure Data Architect Volvo',\n 'text_body': \"Hallo,\\r\\n\\r\\nVoor Volvo Group (Gent) zoeken we een MS Azure data architect.\\r\\nGraag cv, ic en beschikbaarheden van eigen medewerkes of direcete freelancers.\\r\\nRegime : FTE met 50% on site.\\r\\nBedankt.\\r\\n\\r\\nWe are looking for an Data architect Azure, with a good overall understanding of available services in the Azure Analytics stack.\\r\\nThis person is required to take the lead as Data Architect for GTO Manufacturing & Powertrain projects.\\r\\nWe need this person to keep everything together but also to have practical experience to dive in and setup different environments & services.\\r\\nLeadership capabilities needed as this person is supposed to take the technical lead role and discussion with Business Stakeholders.\\r\\n\\r\\nWorking alongside with multiple product teams, you provide architecture leadership and support within the end-to-end lifecycle of managing data.\\r\\n• You provide technical leadership, you participate in development efforts, and you represent the full internal and external capabilities of the platform.\\r\\n• You will be an active member of the architects guild to oversee data management process and provide guidance and direction to development teams - including design, documentation, maintenance, enhancements and validation.\\r\\n• You have a proven experience in one of following development track: Analytics & BI development, data analysis, data engineering, platforms administration.\\r\\n• As architect, you have experiences on Azure Cloud platform around data (Databricks, ADLS storage, SQL DB...), and you know technologies like Python or Spark. Experience with Angular, ADF, Power BI is an advantage.\\r\\n• You have experiences in defining and owning end-to-end scalable Data Architecture taking into account enterprise architecture and industry standards.\\r\\n• You have participated in the development of architectures, strategies, and policies around data, including data governance, master data management, metadata management, data quality and data security.\\r\\n• You are used to develop, document and maintain logical and physical data models.\\r\\n• You are used to work closely with multiple internal teams including compliance, privacy, risk, information security, support and operations to ensure all business requirements are considered in the design process\\r\\n\\r\\nCompetences & Skills Mandatory:\\r\\n• Data Architecture has been\\u202fyour\\u202fworld\\u202ffor minimum 4\\u202fyears\\u202f\\r\\n• Writing SQL and doing data modelling are natural to you\\r\\n• Data Architecture design\\r\\n• Azure components like ADFv2, Databricks, Synapse, Delta lake\\r\\n• Azure Advanced Analytics technologies and frameworks\\r\\n• Advanced Analytics related programming language: Python, Pyspark\\r\\n• Microsoft cloud based delivery model\\r\\n• Data Management, Data Governance and Data Quality\\r\\n• API or microservice deployment\\r\\n• Data Integration and Processing real time/streaming data\\r\\n• DevSecOps\\r\\n•appreciation of the purpose and the practices of Agile\\r\\n• You have experience working in a global environment\\r\\n• You have demonstrated a growth and learning mindset.\\r\\n• You have excellent communication skills in French and English (C1 level)\\r\\n\\r\\nPhilip\\r\\nBusiness Development Manager\\r\\n92\\r\\nPhone : \\r\\nAddress : Veldkant 33a – 2550 Kontich – Belgium\\r\\n[logo's iperform_def_RGB],  a [rosspoint_Logo_350x140] Company\\r\\n\\r\\n\",\n 'label': 'DATA_ENGINEER',\n 'keywords': ['advanced',\n  'analytics',\n  'api',\n  'architect',\n  'architecture',\n  'azure',\n  'bi',\n  'cloud',\n  'data',\n  'databricks',\n  'db',\n  'delta',\n  'design',\n  'develop',\n  'development',\n  'dive',\n  'environment',\n  'experience',\n  'governance',\n  'ic',\n  'integration',\n  'lake',\n  'language',\n  'learning',\n  'level',\n  'maintenance',\n  'management',\n  'master',\n  'microsoft',\n  'model',\n  'ms',\n  'need',\n  'platform',\n  'power',\n  'process',\n  'processing',\n  'product',\n  'programming',\n  'quality',\n  'scalable',\n  'security',\n  'setup',\n  'sql',\n  'stack',\n  'synapse',\n  'work']}"
     },
     "execution_count": 11,
     "metadata": {},
     "output_type": "execute_result"
    }
   ],
   "source": [
    "from modeloperator import ModelOperator\n",
    "from modelmanager import ModelManager\n",
    "\n",
    "mm = ModelManager(test_size=0.15, random_state=30, learning_rate=0.9, base_n_estimators= 35, n_estimators= 180)\n",
    "metrics = mm.train_model(data=mails)\n",
    "ml = ModelOperator()\n",
    "\n",
    "print(\"origineel label:\",mails[92]['label'])\n",
    "ml.classify(mails[92])"
   ],
   "metadata": {
    "collapsed": false,
    "ExecuteTime": {
     "end_time": "2024-03-26T16:02:52.749174300Z",
     "start_time": "2024-03-26T16:02:40.794619500Z"
    }
   },
   "id": "b101700d94387a93"
  },
  {
   "cell_type": "code",
   "execution_count": 12,
   "outputs": [
    {
     "data": {
      "text/plain": "{'elapsed_training_time': '0 minutes, 6 seconds',\n 'accuracy_per_label': {'BI_ENGINEER': 1.0,\n  'DATA_ENGINEER': 0.0,\n  'IRRELEVANT': 0.8888888888888888},\n 'accuracy_global': 0.7333333333333333}"
     },
     "execution_count": 12,
     "metadata": {},
     "output_type": "execute_result"
    }
   ],
   "source": [
    "metrics"
   ],
   "metadata": {
    "collapsed": false,
    "ExecuteTime": {
     "end_time": "2024-03-26T16:02:52.757209300Z",
     "start_time": "2024-03-26T16:02:52.757209300Z"
    }
   },
   "id": "414fe34c41d8c80b"
  }
 ],
 "metadata": {
  "kernelspec": {
   "display_name": "Python 3",
   "language": "python",
   "name": "python3"
  },
  "language_info": {
   "codemirror_mode": {
    "name": "ipython",
    "version": 2
   },
   "file_extension": ".py",
   "mimetype": "text/x-python",
   "name": "python",
   "nbconvert_exporter": "python",
   "pygments_lexer": "ipython2",
   "version": "2.7.6"
  }
 },
 "nbformat": 4,
 "nbformat_minor": 5
}
