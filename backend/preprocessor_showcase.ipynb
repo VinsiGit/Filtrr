{
 "cells": [
  {
   "cell_type": "code",
   "execution_count": 166,
   "outputs": [],
   "source": [
    "import re\n",
    "from nltk.corpus import stopwords\n",
    "\n",
    "class Preprocessor:\n",
    "    def __init__(self):\n",
    "        \"\"\"\n",
    "        Initialize Preprocessor class with keywords and stopwords.\n",
    "        \"\"\"\n",
    "        self.__keywords = [\n",
    "         'advanced', 'alm', 'analyst', 'analytical', 'analytics', 'api', 'app', 'application', 'architecture', 'arm', 'asset', 'automation', 'availability', 'azure', 'ba', 'bi', 'big', 'bnppf', 'c', 'cd', 'central', 'ci', 'cloud', 'cloudtrail', 'code', 'cognos', 'container', 'crisp', 'culture', 'customer', 'dashboard', 'data', 'databricks', 'dataiku', 'datalake', 'datasets', 'dax', 'db', 'dbt', 'deepdives', 'delta', 'design', 'desktop', 'developer', 'development', 'devops', 'dimensional', 'docker', 'dynamic', 'ecosystem', 'emr', 'engineer', 'environment', 'erp', 'etl', 'etp', 'excel', 'experience', 'factory', 'flow', 'flow', 'gen', 'git', 'governance', 'handling', 'high', 'hr', 'hub', 'ict', 'infrastructure', 'innovation', 'insight', 'integration', 'intelligence', 'interface', 'iot', 'java', 'kibana', 'lake', 'lambda', 'language', 'large', 'layer', 'learning', 'level', 'linux', 'm', 'machine', 'maintenance', 'management', 'manipulating', 'mart', 'master', 'medior', 'meeting', 'microsoft', 'migration', 'model', 'modeling', 'mongo', 'need', 'neo', 'operation', 'optimization', 'oracle', 'orchestration', 'package', 'paginated', 'panda', 'pipeline', 'platform', 'power', 'practice', 'preparation', 'processing', 'procurement', 'product', 'programming', 'project', 'qliksense', 'quality', 'querying', 'report', 'reporting', 'requirement', 'roadmap', 'row', 's3', 'sa', 'safe', 'sagemaker', 'scalable', 'security', 'semi', 'service', 'setup', 'shiny', 'signal', 'skill', 'solution', 'specialist', 'sql', 'ssis', 'ssms', 'stack', 'strategic', 'strategy', 'stream', 'structured', 'studio', 'synapse', 't', 'technique', 'technology', 'tool', 'toolkit', 'topdesk', 'topic', 'transform', 'transformation', 'ux', 'value', 'vault', 'visual', 'visualisation', 'visualization', 'visuals', 'vpc', 'warehouse', 'wifi', 'workspace', 'wph']\n",
    "        self.__english_stopwords = set(stopwords.words('english'))\n",
    "        self.__french_stopwords = set(stopwords.words('french'))\n",
    "        self.__dutch_stopwords = set(stopwords.words('dutch'))\n",
    "        \n",
    "    def __get_tokens(self, text: str) -> str:\n",
    "        \"\"\"\n",
    "        Tokenizes the given text.\n",
    "\n",
    "        Args:\n",
    "        text (str): The text to tokenize.\n",
    "\n",
    "        Returns:\n",
    "        list[str]: A list of tokens extracted from the text.\n",
    "        \"\"\"\n",
    "        for pattern in [r'\\r', r'\\n', r'[^A-Za-z0-9\\s]', r'\\s+']:\n",
    "            text = re.sub(pattern, ' ', text)\n",
    "        text = text.lower()\n",
    "        text = text.strip()\n",
    "        arr = text.split(' ')\n",
    "        return arr\n",
    "    \n",
    "    def __get_interesting_tokens(self, tokens: list[str]) -> list[str]:\n",
    "        \"\"\"\n",
    "        Filters tokens based on predefined keywords.\n",
    "\n",
    "        Args:\n",
    "        tokens (list[str]): List of tokens to filter.\n",
    "\n",
    "        Returns:\n",
    "        list[str]: Filtered list of tokens containing only interesting tokens.\n",
    "        \"\"\"\n",
    "        interesting_tokens = []\n",
    "        for token in tokens:\n",
    "            for keyword in self.__keywords:\n",
    "                if token in keyword:\n",
    "                   interesting_tokens.append(token)\n",
    "        return list(set(interesting_tokens))\n",
    "    \n",
    "    def __filter_stopwords(self, tokens: list[str]) -> list[str]:\n",
    "        \"\"\"\n",
    "        Removes stopwords from the list of tokens.\n",
    "\n",
    "        Args:\n",
    "        tokens (list[str]): List of tokens to filter.\n",
    "\n",
    "        Returns:\n",
    "        list[str]: Filtered list of tokens with stopwords removed.\n",
    "        \"\"\"\n",
    "        tokens = [token for token in tokens if token not in self.__english_stopwords]\n",
    "        tokens = [token for token in tokens if token not in self.__french_stopwords]\n",
    "        tokens = [token for token in tokens if token not in self.__dutch_stopwords]\n",
    "        return tokens\n",
    "    \n",
    "    def preprocess(self, email: any) -> dict:\n",
    "        \"\"\"\n",
    "        Preprocesses the text of an email by tokenizing, filtering based on keywords, and removing stopwords.\n",
    "\n",
    "        Args:\n",
    "        email (any): The email object containing text to preprocess.\n",
    "\n",
    "        Returns:\n",
    "        list[str]: Preprocessed tokens sorted alphabetically.\n",
    "        \"\"\"\n",
    "        text = email.get('text_body', '')\n",
    "        tokens = self.__get_tokens(text)\n",
    "        interesting_tokens = self.__get_interesting_tokens(tokens)\n",
    "        preprocessed_tokens = self.__filter_stopwords(interesting_tokens)\n",
    "        preprocessed_tokens.sort()\n",
    "        email['keywords'] = preprocessed_tokens\n",
    "        return email"
   ],
   "metadata": {
    "collapsed": false,
    "ExecuteTime": {
     "end_time": "2024-03-23T17:03:30.033380900Z",
     "start_time": "2024-03-23T17:03:30.013270500Z"
    }
   },
   "id": "bd98534b9c69a511"
  },
  {
   "cell_type": "code",
   "execution_count": 167,
   "outputs": [],
   "source": [
    "email =  {\n",
    "    \"item_id\": 0,\n",
    "    \"sender\": \"a1d400258b5c6e3d97307b2c949ffe01fe0aa27ab02ef1c351a7bfa6e0f300a3\",\n",
    "    \"sender_email\": \"6fedc8e86e6e05504fefcdce51f8f73b69f5fd104c23dc5e9dba6c64e5536ffd\",\n",
    "    \"datetime_received\": 1707207587000,\n",
    "    \"sensitivity\": \"Normal\",\n",
    "    \"subject\": \"Datawarehousing Specialist (4. Expert (10+)) SWI000876 - For Swift\",\n",
    "    \"text_body\": \"ENKEL RECHTSTREEKS, GEEN TUSSENPARTIJEN AUB\\r\\n\\r\\nVOORRANG VASTE MEDEWERKERS\\r\\n\\r\\n\\r\\n\\r\\nHallo collega\\u2019s,\\r\\n\\r\\n\\r\\n\\r\\nVoor Swift zoeken we een Datawarehousing Specialist (4. Expert (10+)) SWI000876 die voldoet aan volgende beschrijving:\\r\\n\\r\\n\\r\\n\\r\\nUiterste reactiedatum: 16/02/2024\\r\\n\\r\\nGewenste startdatum: 01/03/2024\\r\\n\\r\\nEinddatum: 31/08/2024\\r\\n\\r\\n\\r\\n\\r\\nReferentie: SWI000876\\r\\n\\r\\nTitel: Datawarehousing Specialist (4. Expert (10+)) SWI000876\\r\\n\\r\\nLocatie: THE NETHERLANDS - ZOETERWOUDE (ENERGIEWEG 33, 2382 NC ZOETERWOUDE, NEDERLAND)\\r\\n\\r\\nStatus: Gepubliceerd\\r\\n\\r\\nType contract: Time & material\\r\\n\\r\\nCategorie: Niet van toepassing\\r\\n\\r\\nAantal personen: 1\\r\\n\\r\\nAfdeling: Human Resource (HR)\\r\\n\\r\\n\\r\\n\\r\\nOmschrijving\\r\\n\\r\\n\\r\\n\\r\\nThe project for which the candidate will be assigned is called Digital Dashboards, having the goal of building executive dashboarding for Swift. The ideal candidate will have an extensive background and expertise in MS Power BI, with both the ability to design the data model, as well as the reports and dashboards.\\r\\n\\r\\nThe candidate will join the project team and will have a key role to play, not just delivering on the scope of the project, but also training the team on that technology since it is still quite new at Swift.\\r\\n\\r\\n\\r\\nOpdracht informatie\\r\\n\\r\\n\\r\\n\\r\\nProjectnaam: Digital Dashboards\\r\\n\\r\\nWerkregime: Voltijds\\r\\n\\r\\n\\r\\n\\r\\nVaardigheden\\r\\n\\r\\n\\r\\n\\r\\nSPECIFIEKE VAARDIGHEDEN\\r\\n\\r\\n\\r\\n\\r\\nData Modeling: Expert (10+)\\r\\n\\r\\nETL Development: Expert (10+)\\r\\n\\r\\nMS Power Bi: Expert (10+)\\r\\n\\r\\n\\r\\n\\r\\n\\r\\nIndien jullie geschikte kandidaten hebben ontvang ik graag hun beschikbaarheid, CV en kostprijs.\\r\\n\\r\\n\\r\\n\\r\\nAlvast hartelijk bedankt.\\r\\n\\r\\n\\r\\n[signature_1929168496]\\r\\n\\r\\nChannice \\r\\n\\r\\nExecutive Assistant - Business and sales support\\r\\n\\r\\n\\r\\n\\r\\n\\r\\n\\r\\n\\r\\n\\r\\nDe Cronos Groep nv\\r\\n\\r\\nVeldkant 33A, 2550 Kontich\\r\\n\\r\\n\\r\\n\",\n",
    "    \"label\": \"BI_ENGINEER\",\n",
    "    \"keywords\": [\n",
    "      \"Datawarehousing Specialist\",\n",
    "      \"MS Power BI\",\n",
    "      \"Data Modeling\",\n",
    "      \"ETL Development\"\n",
    "    ]\n",
    "}"
   ],
   "metadata": {
    "collapsed": false,
    "ExecuteTime": {
     "end_time": "2024-03-23T17:03:30.033380900Z",
     "start_time": "2024-03-23T17:03:30.015307300Z"
    }
   },
   "id": "b741f4323bd2b78c"
  },
  {
   "cell_type": "code",
   "execution_count": 168,
   "outputs": [],
   "source": [
    "preprocessor = Preprocessor()"
   ],
   "metadata": {
    "collapsed": false,
    "ExecuteTime": {
     "end_time": "2024-03-23T17:03:30.033380900Z",
     "start_time": "2024-03-23T17:03:30.015307300Z"
    }
   },
   "id": "6a9c3277b0e5f679"
  },
  {
   "cell_type": "code",
   "execution_count": 169,
   "outputs": [
    {
     "data": {
      "text/plain": "{'item_id': 0,\n 'sender': 'a1d400258b5c6e3d97307b2c949ffe01fe0aa27ab02ef1c351a7bfa6e0f300a3',\n 'sender_email': '6fedc8e86e6e05504fefcdce51f8f73b69f5fd104c23dc5e9dba6c64e5536ffd',\n 'datetime_received': 1707207587000,\n 'sensitivity': 'Normal',\n 'subject': 'Datawarehousing Specialist (4. Expert (10+)) SWI000876 - For Swift',\n 'text_body': 'ENKEL RECHTSTREEKS, GEEN TUSSENPARTIJEN AUB\\r\\n\\r\\nVOORRANG VASTE MEDEWERKERS\\r\\n\\r\\n\\r\\n\\r\\nHallo collega’s,\\r\\n\\r\\n\\r\\n\\r\\nVoor Swift zoeken we een Datawarehousing Specialist (4. Expert (10+)) SWI000876 die voldoet aan volgende beschrijving:\\r\\n\\r\\n\\r\\n\\r\\nUiterste reactiedatum: 16/02/2024\\r\\n\\r\\nGewenste startdatum: 01/03/2024\\r\\n\\r\\nEinddatum: 31/08/2024\\r\\n\\r\\n\\r\\n\\r\\nReferentie: SWI000876\\r\\n\\r\\nTitel: Datawarehousing Specialist (4. Expert (10+)) SWI000876\\r\\n\\r\\nLocatie: THE NETHERLANDS - ZOETERWOUDE (ENERGIEWEG 33, 2382 NC ZOETERWOUDE, NEDERLAND)\\r\\n\\r\\nStatus: Gepubliceerd\\r\\n\\r\\nType contract: Time & material\\r\\n\\r\\nCategorie: Niet van toepassing\\r\\n\\r\\nAantal personen: 1\\r\\n\\r\\nAfdeling: Human Resource (HR)\\r\\n\\r\\n\\r\\n\\r\\nOmschrijving\\r\\n\\r\\n\\r\\n\\r\\nThe project for which the candidate will be assigned is called Digital Dashboards, having the goal of building executive dashboarding for Swift. The ideal candidate will have an extensive background and expertise in MS Power BI, with both the ability to design the data model, as well as the reports and dashboards.\\r\\n\\r\\nThe candidate will join the project team and will have a key role to play, not just delivering on the scope of the project, but also training the team on that technology since it is still quite new at Swift.\\r\\n\\r\\n\\r\\nOpdracht informatie\\r\\n\\r\\n\\r\\n\\r\\nProjectnaam: Digital Dashboards\\r\\n\\r\\nWerkregime: Voltijds\\r\\n\\r\\n\\r\\n\\r\\nVaardigheden\\r\\n\\r\\n\\r\\n\\r\\nSPECIFIEKE VAARDIGHEDEN\\r\\n\\r\\n\\r\\n\\r\\nData Modeling: Expert (10+)\\r\\n\\r\\nETL Development: Expert (10+)\\r\\n\\r\\nMS Power Bi: Expert (10+)\\r\\n\\r\\n\\r\\n\\r\\n\\r\\nIndien jullie geschikte kandidaten hebben ontvang ik graag hun beschikbaarheid, CV en kostprijs.\\r\\n\\r\\n\\r\\n\\r\\nAlvast hartelijk bedankt.\\r\\n\\r\\n\\r\\n[signature_1929168496]\\r\\n\\r\\nChannice \\r\\n\\r\\nExecutive Assistant - Business and sales support\\r\\n\\r\\n\\r\\n\\r\\n\\r\\n\\r\\n\\r\\n\\r\\nDe Cronos Groep nv\\r\\n\\r\\nVeldkant 33A, 2550 Kontich\\r\\n\\r\\n\\r\\n',\n 'label': 'BI_ENGINEER',\n 'keywords': ['ability',\n  'bi',\n  'data',\n  'design',\n  'development',\n  'etl',\n  'hr',\n  'model',\n  'modeling',\n  'ms',\n  'nc',\n  'nv',\n  'power',\n  'project',\n  'specialist',\n  'technology']}"
     },
     "execution_count": 169,
     "metadata": {},
     "output_type": "execute_result"
    }
   ],
   "source": [
    "preprocessor.preprocess(email)"
   ],
   "metadata": {
    "collapsed": false,
    "ExecuteTime": {
     "end_time": "2024-03-23T17:03:30.033380900Z",
     "start_time": "2024-03-23T17:03:30.025348100Z"
    }
   },
   "id": "261a64b12a5cc1d6"
  },
  {
   "cell_type": "code",
   "execution_count": 169,
   "outputs": [],
   "source": [],
   "metadata": {
    "collapsed": false,
    "ExecuteTime": {
     "end_time": "2024-03-23T17:03:30.110954300Z",
     "start_time": "2024-03-23T17:03:30.031371500Z"
    }
   },
   "id": "3e50c818846f4a67"
  }
 ],
 "metadata": {
  "kernelspec": {
   "display_name": "Python 3",
   "language": "python",
   "name": "python3"
  },
  "language_info": {
   "codemirror_mode": {
    "name": "ipython",
    "version": 2
   },
   "file_extension": ".py",
   "mimetype": "text/x-python",
   "name": "python",
   "nbconvert_exporter": "python",
   "pygments_lexer": "ipython2",
   "version": "2.7.6"
  }
 },
 "nbformat": 4,
 "nbformat_minor": 5
}
